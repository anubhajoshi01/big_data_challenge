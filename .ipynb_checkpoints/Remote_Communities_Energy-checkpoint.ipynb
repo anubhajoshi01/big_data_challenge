{
 "cells": [
  {
   "cell_type": "code",
   "execution_count": 1,
   "id": "51dd7533",
   "metadata": {},
   "outputs": [],
   "source": [
    "import matplotlib.pyplot as plt\n",
    "from matplotlib import style\n",
    "style.use('ggplot')\n",
    "import numpy as np\n",
    "import pandas as pd\n",
    "from sklearn.cluster import MeanShift\n",
    "from mpl_toolkits.mplot3d import Axes3D"
   ]
  },
  {
   "cell_type": "code",
   "execution_count": 141,
   "id": "816e648c",
   "metadata": {},
   "outputs": [
    {
     "data": {
      "text/html": [
       "<div>\n",
       "<style scoped>\n",
       "    .dataframe tbody tr th:only-of-type {\n",
       "        vertical-align: middle;\n",
       "    }\n",
       "\n",
       "    .dataframe tbody tr th {\n",
       "        vertical-align: top;\n",
       "    }\n",
       "\n",
       "    .dataframe thead th {\n",
       "        text-align: right;\n",
       "    }\n",
       "</style>\n",
       "<table border=\"1\" class=\"dataframe\">\n",
       "  <thead>\n",
       "    <tr style=\"text-align: right;\">\n",
       "      <th></th>\n",
       "      <th>OBJECT ID</th>\n",
       "      <th>Community name</th>\n",
       "      <th>Alternative community name</th>\n",
       "      <th>Province/Territory</th>\n",
       "      <th>Community record status</th>\n",
       "      <th>Community type</th>\n",
       "      <th>Latitude (°)</th>\n",
       "      <th>Longitude (°)</th>\n",
       "      <th>Community classification</th>\n",
       "      <th>Indigenous category</th>\n",
       "      <th>...</th>\n",
       "      <th>Is this a fly-in community?</th>\n",
       "      <th>Population</th>\n",
       "      <th>Main power source</th>\n",
       "      <th>Name of service provider</th>\n",
       "      <th>Total fossil fuel generating capacity (kW)</th>\n",
       "      <th>Annual fossil fuel generation (MWh/yr)</th>\n",
       "      <th>Price of fuel at site</th>\n",
       "      <th>Units</th>\n",
       "      <th>Total renewable energy generation (kW)</th>\n",
       "      <th>Community energy plan</th>\n",
       "    </tr>\n",
       "  </thead>\n",
       "  <tbody>\n",
       "    <tr>\n",
       "      <th>0</th>\n",
       "      <td>1</td>\n",
       "      <td>Les Îles-de-la-Madeleine</td>\n",
       "      <td>Magdalen Islands</td>\n",
       "      <td>QC</td>\n",
       "      <td>Active &gt; Multi-community local microgrid</td>\n",
       "      <td>Settlement</td>\n",
       "      <td>47.383330</td>\n",
       "      <td>-61.866600</td>\n",
       "      <td>Non-Indigenous</td>\n",
       "      <td>NaN</td>\n",
       "      <td>...</td>\n",
       "      <td>No</td>\n",
       "      <td>12475.0</td>\n",
       "      <td>Heavy fuel oil</td>\n",
       "      <td>Hydro-Quebec</td>\n",
       "      <td>67044.0</td>\n",
       "      <td>181648.00</td>\n",
       "      <td>0.70</td>\n",
       "      <td>$/l</td>\n",
       "      <td>0.0</td>\n",
       "      <td>NaN</td>\n",
       "    </tr>\n",
       "    <tr>\n",
       "      <th>1</th>\n",
       "      <td>2</td>\n",
       "      <td>Ocean Falls</td>\n",
       "      <td>NaN</td>\n",
       "      <td>BC</td>\n",
       "      <td>Active &gt; Multi-community local microgrid</td>\n",
       "      <td>Settlement</td>\n",
       "      <td>52.350000</td>\n",
       "      <td>-127.700000</td>\n",
       "      <td>Non-Indigenous</td>\n",
       "      <td>NaN</td>\n",
       "      <td>...</td>\n",
       "      <td>No</td>\n",
       "      <td>203.0</td>\n",
       "      <td>Hydro</td>\n",
       "      <td>BC Hydro</td>\n",
       "      <td>NaN</td>\n",
       "      <td>NaN</td>\n",
       "      <td>NaN</td>\n",
       "      <td>NaN</td>\n",
       "      <td>10000.0</td>\n",
       "      <td>NaN</td>\n",
       "    </tr>\n",
       "    <tr>\n",
       "      <th>2</th>\n",
       "      <td>3</td>\n",
       "      <td>Whitehorse 8</td>\n",
       "      <td>NaN</td>\n",
       "      <td>YT</td>\n",
       "      <td>Active &gt; Grid connected: Yukon or NWT grid</td>\n",
       "      <td>Settlement</td>\n",
       "      <td>60.750000</td>\n",
       "      <td>-135.080000</td>\n",
       "      <td>Indigenous</td>\n",
       "      <td>First Nation</td>\n",
       "      <td>...</td>\n",
       "      <td>No</td>\n",
       "      <td>NaN</td>\n",
       "      <td>Prov./terr. grid</td>\n",
       "      <td>Yukon Energy Corp.</td>\n",
       "      <td>NaN</td>\n",
       "      <td>NaN</td>\n",
       "      <td>0.33</td>\n",
       "      <td>$/l</td>\n",
       "      <td>0.0</td>\n",
       "      <td>NaN</td>\n",
       "    </tr>\n",
       "    <tr>\n",
       "      <th>3</th>\n",
       "      <td>4</td>\n",
       "      <td>Bella Bella</td>\n",
       "      <td>Bella Bella 1</td>\n",
       "      <td>BC</td>\n",
       "      <td>Active &gt; Multi-community local microgrid</td>\n",
       "      <td>Settlement</td>\n",
       "      <td>52.160340</td>\n",
       "      <td>-128.145480</td>\n",
       "      <td>Indigenous</td>\n",
       "      <td>First Nation</td>\n",
       "      <td>...</td>\n",
       "      <td>No</td>\n",
       "      <td>1019.0</td>\n",
       "      <td>Hydro</td>\n",
       "      <td>BC Hydro</td>\n",
       "      <td>4900.0</td>\n",
       "      <td>982.87</td>\n",
       "      <td>NaN</td>\n",
       "      <td>NaN</td>\n",
       "      <td>0.0</td>\n",
       "      <td>NaN</td>\n",
       "    </tr>\n",
       "    <tr>\n",
       "      <th>4</th>\n",
       "      <td>5</td>\n",
       "      <td>Wagisla</td>\n",
       "      <td>NaN</td>\n",
       "      <td>BC</td>\n",
       "      <td>Active &gt; Multi-community local microgrid</td>\n",
       "      <td>Settlement</td>\n",
       "      <td>52.161667</td>\n",
       "      <td>-128.143611</td>\n",
       "      <td>Indigenous</td>\n",
       "      <td>First Nation</td>\n",
       "      <td>...</td>\n",
       "      <td>No</td>\n",
       "      <td>NaN</td>\n",
       "      <td>Hydro</td>\n",
       "      <td>BC Hydro</td>\n",
       "      <td>NaN</td>\n",
       "      <td>NaN</td>\n",
       "      <td>NaN</td>\n",
       "      <td>NaN</td>\n",
       "      <td>0.0</td>\n",
       "      <td>NaN</td>\n",
       "    </tr>\n",
       "  </tbody>\n",
       "</table>\n",
       "<p>5 rows × 21 columns</p>\n",
       "</div>"
      ],
      "text/plain": [
       "   OBJECT ID            Community name Alternative community name  \\\n",
       "0          1  Les Îles-de-la-Madeleine           Magdalen Islands   \n",
       "1          2               Ocean Falls                        NaN   \n",
       "2          3              Whitehorse 8                        NaN   \n",
       "3          4               Bella Bella              Bella Bella 1   \n",
       "4          5                   Wagisla                        NaN   \n",
       "\n",
       "  Province/Territory                     Community record status  \\\n",
       "0                 QC    Active > Multi-community local microgrid   \n",
       "1                 BC    Active > Multi-community local microgrid   \n",
       "2                 YT  Active > Grid connected: Yukon or NWT grid   \n",
       "3                 BC    Active > Multi-community local microgrid   \n",
       "4                 BC    Active > Multi-community local microgrid   \n",
       "\n",
       "  Community type  Latitude (°)  Longitude (°) Community classification  \\\n",
       "0     Settlement     47.383330     -61.866600           Non-Indigenous   \n",
       "1     Settlement     52.350000    -127.700000           Non-Indigenous   \n",
       "2     Settlement     60.750000    -135.080000               Indigenous   \n",
       "3     Settlement     52.160340    -128.145480               Indigenous   \n",
       "4     Settlement     52.161667    -128.143611               Indigenous   \n",
       "\n",
       "  Indigenous category  ... Is this a fly-in community? Population  \\\n",
       "0                 NaN  ...                          No    12475.0   \n",
       "1                 NaN  ...                          No      203.0   \n",
       "2        First Nation  ...                          No        NaN   \n",
       "3        First Nation  ...                          No     1019.0   \n",
       "4        First Nation  ...                          No        NaN   \n",
       "\n",
       "   Main power source Name of service provider  \\\n",
       "0     Heavy fuel oil             Hydro-Quebec   \n",
       "1              Hydro                 BC Hydro   \n",
       "2   Prov./terr. grid       Yukon Energy Corp.   \n",
       "3              Hydro                 BC Hydro   \n",
       "4              Hydro                 BC Hydro   \n",
       "\n",
       "  Total fossil fuel generating capacity (kW)  \\\n",
       "0                                    67044.0   \n",
       "1                                        NaN   \n",
       "2                                        NaN   \n",
       "3                                     4900.0   \n",
       "4                                        NaN   \n",
       "\n",
       "   Annual fossil fuel generation (MWh/yr)  Price of fuel at site  Units  \\\n",
       "0                               181648.00                   0.70    $/l   \n",
       "1                                     NaN                    NaN    NaN   \n",
       "2                                     NaN                   0.33    $/l   \n",
       "3                                  982.87                    NaN    NaN   \n",
       "4                                     NaN                    NaN    NaN   \n",
       "\n",
       "  Total renewable energy generation (kW)  Community energy plan  \n",
       "0                                    0.0                    NaN  \n",
       "1                                10000.0                    NaN  \n",
       "2                                    0.0                    NaN  \n",
       "3                                    0.0                    NaN  \n",
       "4                                    0.0                    NaN  \n",
       "\n",
       "[5 rows x 21 columns]"
      ]
     },
     "execution_count": 141,
     "metadata": {},
     "output_type": "execute_result"
    }
   ],
   "source": [
    "df = pd.read_csv(r\"E:\\Python-Notebooks\\big_data_challenge\\datasets_bdc\\rced_en (1).csv\")\n",
    "df.replace('Non-indigenous', 'Non-Indigenous', inplace=True)\n",
    "df.head()"
   ]
  },
  {
   "cell_type": "code",
   "execution_count": 142,
   "id": "68223ce3",
   "metadata": {},
   "outputs": [
    {
     "data": {
      "text/html": [
       "<div>\n",
       "<style scoped>\n",
       "    .dataframe tbody tr th:only-of-type {\n",
       "        vertical-align: middle;\n",
       "    }\n",
       "\n",
       "    .dataframe tbody tr th {\n",
       "        vertical-align: top;\n",
       "    }\n",
       "\n",
       "    .dataframe thead th {\n",
       "        text-align: right;\n",
       "    }\n",
       "</style>\n",
       "<table border=\"1\" class=\"dataframe\">\n",
       "  <thead>\n",
       "    <tr style=\"text-align: right;\">\n",
       "      <th></th>\n",
       "      <th>Province/Territory</th>\n",
       "      <th>Community record status</th>\n",
       "      <th>Community type</th>\n",
       "      <th>Community classification</th>\n",
       "      <th>Indigenous category</th>\n",
       "      <th>Is there year-round road access to this community?</th>\n",
       "      <th>Population</th>\n",
       "      <th>Main power source</th>\n",
       "      <th>Total renewable energy generation (kW)</th>\n",
       "    </tr>\n",
       "  </thead>\n",
       "  <tbody>\n",
       "    <tr>\n",
       "      <th>0</th>\n",
       "      <td>QC</td>\n",
       "      <td>Active &gt; Multi-community local microgrid</td>\n",
       "      <td>Settlement</td>\n",
       "      <td>Non-Indigenous</td>\n",
       "      <td>NaN</td>\n",
       "      <td>No</td>\n",
       "      <td>12475.0</td>\n",
       "      <td>Heavy fuel oil</td>\n",
       "      <td>0.0</td>\n",
       "    </tr>\n",
       "    <tr>\n",
       "      <th>1</th>\n",
       "      <td>BC</td>\n",
       "      <td>Active &gt; Multi-community local microgrid</td>\n",
       "      <td>Settlement</td>\n",
       "      <td>Non-Indigenous</td>\n",
       "      <td>NaN</td>\n",
       "      <td>No</td>\n",
       "      <td>203.0</td>\n",
       "      <td>Hydro</td>\n",
       "      <td>10000.0</td>\n",
       "    </tr>\n",
       "    <tr>\n",
       "      <th>2</th>\n",
       "      <td>YT</td>\n",
       "      <td>Active &gt; Grid connected: Yukon or NWT grid</td>\n",
       "      <td>Settlement</td>\n",
       "      <td>Indigenous</td>\n",
       "      <td>First Nation</td>\n",
       "      <td>Yes</td>\n",
       "      <td>NaN</td>\n",
       "      <td>Prov./terr. grid</td>\n",
       "      <td>0.0</td>\n",
       "    </tr>\n",
       "    <tr>\n",
       "      <th>3</th>\n",
       "      <td>BC</td>\n",
       "      <td>Active &gt; Multi-community local microgrid</td>\n",
       "      <td>Settlement</td>\n",
       "      <td>Indigenous</td>\n",
       "      <td>First Nation</td>\n",
       "      <td>No</td>\n",
       "      <td>1019.0</td>\n",
       "      <td>Hydro</td>\n",
       "      <td>0.0</td>\n",
       "    </tr>\n",
       "    <tr>\n",
       "      <th>4</th>\n",
       "      <td>BC</td>\n",
       "      <td>Active &gt; Multi-community local microgrid</td>\n",
       "      <td>Settlement</td>\n",
       "      <td>Indigenous</td>\n",
       "      <td>First Nation</td>\n",
       "      <td>No</td>\n",
       "      <td>NaN</td>\n",
       "      <td>Hydro</td>\n",
       "      <td>0.0</td>\n",
       "    </tr>\n",
       "  </tbody>\n",
       "</table>\n",
       "</div>"
      ],
      "text/plain": [
       "  Province/Territory                     Community record status  \\\n",
       "0                 QC    Active > Multi-community local microgrid   \n",
       "1                 BC    Active > Multi-community local microgrid   \n",
       "2                 YT  Active > Grid connected: Yukon or NWT grid   \n",
       "3                 BC    Active > Multi-community local microgrid   \n",
       "4                 BC    Active > Multi-community local microgrid   \n",
       "\n",
       "  Community type Community classification Indigenous category  \\\n",
       "0     Settlement           Non-Indigenous                 NaN   \n",
       "1     Settlement           Non-Indigenous                 NaN   \n",
       "2     Settlement               Indigenous        First Nation   \n",
       "3     Settlement               Indigenous        First Nation   \n",
       "4     Settlement               Indigenous        First Nation   \n",
       "\n",
       "  Is there year-round road access to this community?  Population  \\\n",
       "0                                                 No     12475.0   \n",
       "1                                                 No       203.0   \n",
       "2                                                Yes         NaN   \n",
       "3                                                 No      1019.0   \n",
       "4                                                 No         NaN   \n",
       "\n",
       "  Main power source  Total renewable energy generation (kW)  \n",
       "0    Heavy fuel oil                                     0.0  \n",
       "1             Hydro                                 10000.0  \n",
       "2  Prov./terr. grid                                     0.0  \n",
       "3             Hydro                                     0.0  \n",
       "4             Hydro                                     0.0  "
      ]
     },
     "execution_count": 142,
     "metadata": {},
     "output_type": "execute_result"
    }
   ],
   "source": [
    "df = df[['Province/Territory','Community record status', 'Community type', 'Community classification', 'Indigenous category',\n",
    "        'Is there year-round road access to this community?', 'Population', 'Main power source', \n",
    "         'Total renewable energy generation (kW)']]\n",
    "df.head()"
   ]
  },
  {
   "cell_type": "code",
   "execution_count": 143,
   "id": "2d7e1b05",
   "metadata": {},
   "outputs": [],
   "source": [
    "def getUniqueValues(arr):\n",
    "    track = set()\n",
    "    for i in arr:\n",
    "        track.add(i)\n",
    "    return track"
   ]
  },
  {
   "cell_type": "code",
   "execution_count": 164,
   "id": "7788338b",
   "metadata": {},
   "outputs": [
    {
     "data": {
      "text/plain": [
       "['ON', 'NT', 'NU', 'QC', 'SK', 'NL', 'AB', 'BC', 'YT', 'MB']"
      ]
     },
     "execution_count": 164,
     "metadata": {},
     "output_type": "execute_result"
    }
   ],
   "source": [
    "provinces = list(getUniqueValues(df['Province/Territory']))\n",
    "province_map = createMap(provinces)\n",
    "provinces"
   ]
  },
  {
   "cell_type": "code",
   "execution_count": 145,
   "id": "c21f9342",
   "metadata": {},
   "outputs": [
    {
     "data": {
      "text/plain": [
       "{'Active > Grid connected: Yukon or NWT grid': 0,\n",
       " 'Active > Single community off-grid': 1,\n",
       " 'Active > Multi-community local microgrid': 2}"
      ]
     },
     "execution_count": 145,
     "metadata": {},
     "output_type": "execute_result"
    }
   ],
   "source": [
    "grids = list(getUniqueValues(df['Community record status']))\n",
    "grid_map = createMap(grids)\n",
    "grid_map"
   ]
  },
  {
   "cell_type": "code",
   "execution_count": 146,
   "id": "b97e498e",
   "metadata": {},
   "outputs": [],
   "source": [
    "comms = list(getUniqueValues(df['Community type']))\n",
    "comms_map = createMap(comms)"
   ]
  },
  {
   "cell_type": "code",
   "execution_count": 147,
   "id": "a429e040",
   "metadata": {},
   "outputs": [
    {
     "data": {
      "text/plain": [
       "['Non-Indigenous', 'Indigenous']"
      ]
     },
     "execution_count": 147,
     "metadata": {},
     "output_type": "execute_result"
    }
   ],
   "source": [
    "comm_class = list(getUniqueValues(df['Community classification']))\n",
    "comm_class_map = createMap(comm_class)\n",
    "comm_class"
   ]
  },
  {
   "cell_type": "code",
   "execution_count": 148,
   "id": "91eb74b0",
   "metadata": {},
   "outputs": [
    {
     "data": {
      "text/plain": [
       "[nan, 'Indigenous Collective', 'Inuit', 'First Nation']"
      ]
     },
     "execution_count": 148,
     "metadata": {},
     "output_type": "execute_result"
    }
   ],
   "source": [
    "indigenous = list(getUniqueValues(df['Indigenous category']))\n",
    "indigenous_map = createMap(indigenous)\n",
    "indigenous"
   ]
  },
  {
   "cell_type": "code",
   "execution_count": 149,
   "id": "6442f17a",
   "metadata": {},
   "outputs": [
    {
     "data": {
      "text/plain": [
       "{'No': 0, 'Yes': 1}"
      ]
     },
     "execution_count": 149,
     "metadata": {},
     "output_type": "execute_result"
    }
   ],
   "source": [
    "road_access = ['No', 'Yes']\n",
    "road_map = createMap(road_access[0:2])\n",
    "road_map"
   ]
  },
  {
   "cell_type": "code",
   "execution_count": 150,
   "id": "8c40b858",
   "metadata": {},
   "outputs": [
    {
     "data": {
      "text/plain": [
       "{'Hydro': 1,\n",
       " 'Other': 2,\n",
       " 'Diesel': 2,\n",
       " 'Natural Gas': 2,\n",
       " 'Prov./terr. grid': 2,\n",
       " 'Heavy fuel oil': 2,\n",
       " 'Unknown': 2}"
      ]
     },
     "execution_count": 150,
     "metadata": {},
     "output_type": "execute_result"
    }
   ],
   "source": [
    "power = list(getUniqueValues(df['Main power source']))\n",
    "power_map = {'Hydro':1, 'Other':2, 'Diesel':2, 'Natural Gas':2, 'Prov./terr. grid':2, 'Heavy fuel oil':2, 'Unknown':2}\n",
    "power_map"
   ]
  },
  {
   "cell_type": "code",
   "execution_count": 151,
   "id": "474cc7ae",
   "metadata": {},
   "outputs": [
    {
     "data": {
      "text/plain": [
       "[['ON', 'NT', 'NU', 'QC', 'SK', 'NL', 'AB', 'BC', 'YT', 'MB'],\n",
       " ['Active > Grid connected: Yukon or NWT grid',\n",
       "  'Active > Single community off-grid',\n",
       "  'Active > Multi-community local microgrid'],\n",
       " ['Settlement', 'Commercial'],\n",
       " ['Non-Indigenous', 'Indigenous'],\n",
       " [nan, 'Indigenous Collective', 'Inuit', 'First Nation'],\n",
       " ['No', 'Yes'],\n",
       " ['Hydro',\n",
       "  'Other',\n",
       "  'Diesel',\n",
       "  'Natural Gas',\n",
       "  'Prov./terr. grid',\n",
       "  'Heavy fuel oil',\n",
       "  'Unknown']]"
      ]
     },
     "execution_count": 151,
     "metadata": {},
     "output_type": "execute_result"
    }
   ],
   "source": [
    "col_list = [provinces, grids, comms, comm_class, indigenous, road_access, power]\n",
    "col_map = [province_map, grid_map, comms_map, comm_class_map, indigenous_map, road_map, power_map]\n",
    "col_list"
   ]
  },
  {
   "cell_type": "code",
   "execution_count": 152,
   "id": "e4704882",
   "metadata": {},
   "outputs": [
    {
     "name": "stdout",
     "output_type": "stream",
     "text": [
      "0\n",
      "['ON', 'NT', 'NU', 'QC', 'SK', 'NL', 'AB', 'BC', 'YT', 'MB']\n",
      "1\n",
      "['Active > Grid connected: Yukon or NWT grid', 'Active > Single community off-grid', 'Active > Multi-community local microgrid']\n",
      "2\n",
      "['Settlement', 'Commercial']\n",
      "3\n",
      "['Non-Indigenous', 'Indigenous']\n",
      "4\n",
      "[nan, 'Indigenous Collective', 'Inuit', 'First Nation']\n",
      "5\n",
      "['No', 'Yes']\n",
      "6\n",
      "['Hydro', 'Other', 'Diesel', 'Natural Gas', 'Prov./terr. grid', 'Heavy fuel oil', 'Unknown']\n"
     ]
    }
   ],
   "source": [
    "new_df = df.copy()\n",
    "for i in range(len(col_list)):\n",
    "    print(i)\n",
    "    print(col_list[i])\n",
    "    for el in col_list[i]:\n",
    "        new_df.replace(el, \n",
    "                       col_map[i][el], inplace=True)"
   ]
  },
  {
   "cell_type": "code",
   "execution_count": 204,
   "id": "98d8ae41",
   "metadata": {},
   "outputs": [],
   "source": [
    "new_df.dropna()\n",
    "new_df.head()\n",
    "comms = ['Grid', 'Single off grid',  'multi off grid']\n",
    "indigenous[0] = 'non-indgenous'\n",
    "indigenous[1] = 'collective'"
   ]
  },
  {
   "cell_type": "code",
   "execution_count": 203,
   "id": "f57bbc99",
   "metadata": {},
   "outputs": [
    {
     "name": "stdout",
     "output_type": "stream",
     "text": [
      "Province/Territory\n",
      "[128738.6, 35315.0, 0.0, 851355.0, 0.0, 25137.0, 0.0, 0.0, 194803.901, 1382.638]\n"
     ]
    },
    {
     "data": {
      "image/png": "[encoded data removed]",
      "text/plain": [
       "<Figure size 432x288 with 1 Axes>"
      ]
     },
     "metadata": {},
     "output_type": "display_data"
    },
    {
     "name": "stdout",
     "output_type": "stream",
     "text": [
      "Community record status\n",
      "[154853.0, 178286.0, 903593.139]\n"
     ]
    },
    {
     "data": {
      "image/png": "[encoded data removed]",
      "text/plain": [
       "<Figure size 432x288 with 1 Axes>"
      ]
     },
     "metadata": {},
     "output_type": "display_data"
    },
    {
     "name": "stdout",
     "output_type": "stream",
     "text": [
      "Community classification\n",
      "[1144865.501, 91866.638]\n"
     ]
    },
    {
     "data": {
      "image/png": "[encoded data removed]",
      "text/plain": [
       "<Figure size 432x288 with 1 Axes>"
      ]
     },
     "metadata": {},
     "output_type": "display_data"
    },
    {
     "name": "stdout",
     "output_type": "stream",
     "text": [
      "Is there year-round road access to this community?\n",
      "[182072.13900000002, 1054660.0]\n"
     ]
    },
    {
     "data": {
      "image/png": "[encoded data removed]",
      "text/plain": [
       "<Figure size 432x288 with 1 Axes>"
      ]
     },
     "metadata": {},
     "output_type": "display_data"
    }
   ],
   "source": [
    "graph_map = {'Province/Territory':provinces, 'Community record status':comms, 'Community classification':comm_class,\n",
    "             'Is there year-round road access to this community?':road_access}\n",
    "\n",
    "for key in graph_map:\n",
    "    print(key)\n",
    "    data = extract_values(get_renewable_energy(key))\n",
    "    print(data)\n",
    "   # print(type(graph_map[key]))\n",
    "    plt.bar(graph_map[key], data)\n",
    "    plt.title('Renewable energy data')\n",
    "    plt.xlabel(key)\n",
    "    plt.ylabel('total renewable energy generation (kW)')\n",
    "    plt.show()"
   ]
  },
  {
   "cell_type": "code",
   "execution_count": 208,
   "id": "4032075c",
   "metadata": {},
   "outputs": [
    {
     "name": "stdout",
     "output_type": "stream",
     "text": [
      "[1144865.501, 91811.638, 55.0, 0.0]\n"
     ]
    },
    {
     "data": {
      "image/png": "[encoded data removed]",
      "text/plain": [
       "<Figure size 432x288 with 1 Axes>"
      ]
     },
     "metadata": {},
     "output_type": "display_data"
    }
   ],
   "source": [
    "data = extract_values(get_renewable_energy('Indigenous category'))\n",
    "print(data)\n",
    "# print(type(graph_map[key]))\n",
    "plt.bar(indigenous, data)\n",
    "plt.title('Renewable energy data')\n",
    "plt.xlabel('Indigenous Category')\n",
    "plt.ylabel('total renewable energy generation (kW)')\n",
    "plt.show()"
   ]
  },
  {
   "cell_type": "code",
   "execution_count": 25,
   "id": "cf64677e",
   "metadata": {},
   "outputs": [],
   "source": [
    "def createMap(arr):\n",
    "    mpa = {}\n",
    "    for i in range(len(arr)):\n",
    "        mpa[arr[i]] = i\n",
    "    return mpa"
   ]
  },
  {
   "cell_type": "code",
   "execution_count": 187,
   "id": "517b877b",
   "metadata": {},
   "outputs": [],
   "source": [
    "def get_renewable_energy(col):\n",
    "    \n",
    "    values = {}\n",
    "    \n",
    "    for i in range(len(new_df)):\n",
    "        key = new_df.loc[i, col]\n",
    "        val = new_df.loc[i, 'Total renewable energy generation (kW)']\n",
    "        \n",
    "        if key in values:\n",
    "            values[key] += val\n",
    "        else:\n",
    "            values[key] = val\n",
    "    return values"
   ]
  },
  {
   "cell_type": "code",
   "execution_count": 188,
   "id": "c18f6733",
   "metadata": {},
   "outputs": [],
   "source": [
    "def extract_values(dct):\n",
    "    data = []\n",
    "    for key in dct:\n",
    "        data.append(dct[key])\n",
    "    return data"
   ]
  },
  {
   "cell_type": "code",
   "execution_count": null,
   "id": "347a8d4c",
   "metadata": {},
   "outputs": [],
   "source": []
  }
 ],
 "metadata": {
  "kernelspec": {
   "display_name": "Python 3",
   "language": "python",
   "name": "python3"
  },
  "language_info": {
   "codemirror_mode": {
    "name": "ipython",
    "version": 3
   },
   "file_extension": ".py",
   "mimetype": "text/x-python",
   "name": "python",
   "nbconvert_exporter": "python",
   "pygments_lexer": "ipython3",
   "version": "3.8.8"
  }
 },
 "nbformat": 4,
 "nbformat_minor": 5
}
