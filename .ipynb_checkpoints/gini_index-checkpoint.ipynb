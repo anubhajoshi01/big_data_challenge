{
 "cells": [
  {
   "cell_type": "code",
   "execution_count": 8,
   "id": "f14dc635",
   "metadata": {},
   "outputs": [],
   "source": [
    "import matplotlib.pyplot as plt\n",
    "from matplotlib import style\n",
    "style.use('ggplot')\n",
    "import numpy as np\n",
    "import pandas as pd\n",
    "from sklearn.cluster import MeanShift\n",
    "from mpl_toolkits.mplot3d import Axes3D\n",
    "from sklearn.linear_model import LinearRegression\n",
    "from sklearn import model_selection"
   ]
  },
  {
   "cell_type": "code",
   "execution_count": 10,
   "id": "4b121d98",
   "metadata": {},
   "outputs": [],
   "source": [
    "gini_df = pd.read_csv(r\"E:\\Python-Notebooks\\big_data_challenge\\datasets_bdc\\gini_index.csv\")\n",
    "energy_df = pd.read_csv(r\"E:\\Python-Notebooks\\big_data_challenge\\datasets_bdc\\DP_LIVE_27112021013846042.csv\")"
   ]
  },
  {
   "cell_type": "code",
   "execution_count": 12,
   "id": "e28bbf34",
   "metadata": {},
   "outputs": [],
   "source": [
    "gini_mod = pd.DataFrame(columns=['Country code', 'Latest GINI'])"
   ]
  },
  {
   "cell_type": "code",
   "execution_count": 14,
   "id": "9e340234",
   "metadata": {},
   "outputs": [],
   "source": [
    "for i in range(len(gini_df)):\n",
    "    for i in range(2020, 1960):\n",
    "        if(new_df.loc[i, str(i)] != np.nan):\n",
    "            gini_mod['Country code'].append(new_df.loc[i, 'Country Code'])\n",
    "            gini_mod['Latest GINI'].append(new_df.loc[i, str(i)])"
   ]
  },
  {
   "cell_type": "code",
   "execution_count": 15,
   "id": "784f5392",
   "metadata": {},
   "outputs": [],
   "source": [
    "gini_mod.to_csv(r'E:\\Python-Notebooks\\big_data_challenge\\datasets_bdc\\gini_modified.csv')"
   ]
  },
  {
   "cell_type": "code",
   "execution_count": null,
   "id": "a330af9d",
   "metadata": {},
   "outputs": [],
   "source": [
    "def get_latest_val(col, col_value, df):\n",
    "    \n",
    "    values = []\n",
    "    for(i in range(len(df))):\n",
    "        val = df.loc[i, col]\n",
    "        if(val == col_value):\n",
    "            values.append(val)\n",
    "    \n",
    "    return values[-1]"
   ]
  },
  {
   "cell_type": "code",
   "execution_count": null,
   "id": "ad2f0e2b",
   "metadata": {},
   "outputs": [],
   "source": [
    "for i in range(len(gini_mod)):\n",
    "    country = gini_mod.loc[i, 'Country code']\n",
    "    "
   ]
  }
 ],
 "metadata": {
  "kernelspec": {
   "display_name": "Python 3",
   "language": "python",
   "name": "python3"
  },
  "language_info": {
   "codemirror_mode": {
    "name": "ipython",
    "version": 3
   },
   "file_extension": ".py",
   "mimetype": "text/x-python",
   "name": "python",
   "nbconvert_exporter": "python",
   "pygments_lexer": "ipython3",
   "version": "3.8.8"
  }
 },
 "nbformat": 4,
 "nbformat_minor": 5
}
