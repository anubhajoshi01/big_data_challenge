{
 "cells": [
  {
   "cell_type": "code",
   "execution_count": 2,
   "id": "51dd7533",
   "metadata": {},
   "outputs": [],
   "source": [
    "import matplotlib.pyplot as plt\n",
    "from matplotlib import style\n",
    "style.use('ggplot')\n",
    "import numpy as np\n",
    "import pandas as pd\n",
    "from sklearn.cluster import MeanShift\n",
    "from mpl_toolkits.mplot3d import Axes3D\n",
    "from sklearn.linear_model import LinearRegression\n",
    "from sklearn import model_selection"
   ]
  },
  {
   "cell_type": "code",
   "execution_count": 13,
   "id": "816e648c",
   "metadata": {},
   "outputs": [
    {
     "data": {
      "text/html": [
       "<div>\n",
       "<style scoped>\n",
       "    .dataframe tbody tr th:only-of-type {\n",
       "        vertical-align: middle;\n",
       "    }\n",
       "\n",
       "    .dataframe tbody tr th {\n",
       "        vertical-align: top;\n",
       "    }\n",
       "\n",
       "    .dataframe thead th {\n",
       "        text-align: right;\n",
       "    }\n",
       "</style>\n",
       "<table border=\"1\" class=\"dataframe\">\n",
       "  <thead>\n",
       "    <tr style=\"text-align: right;\">\n",
       "      <th></th>\n",
       "      <th>OBJECT ID</th>\n",
       "      <th>Community name</th>\n",
       "      <th>Alternative community name</th>\n",
       "      <th>Province/Territory</th>\n",
       "      <th>Community record status</th>\n",
       "      <th>Community type</th>\n",
       "      <th>Latitude (°)</th>\n",
       "      <th>Longitude (°)</th>\n",
       "      <th>Community classification</th>\n",
       "      <th>Indigenous category</th>\n",
       "      <th>...</th>\n",
       "      <th>Is this a fly-in community?</th>\n",
       "      <th>Population</th>\n",
       "      <th>Main power source</th>\n",
       "      <th>Name of service provider</th>\n",
       "      <th>Total fossil fuel generating capacity (kW)</th>\n",
       "      <th>Annual fossil fuel generation (MWh/yr)</th>\n",
       "      <th>Price of fuel at site</th>\n",
       "      <th>Units</th>\n",
       "      <th>Total renewable energy generation (kW)</th>\n",
       "      <th>Community energy plan</th>\n",
       "    </tr>\n",
       "  </thead>\n",
       "  <tbody>\n",
       "    <tr>\n",
       "      <th>0</th>\n",
       "      <td>1</td>\n",
       "      <td>Les Îles-de-la-Madeleine</td>\n",
       "      <td>Magdalen Islands</td>\n",
       "      <td>QC</td>\n",
       "      <td>Active &gt; Multi-community local microgrid</td>\n",
       "      <td>Settlement</td>\n",
       "      <td>47.383330</td>\n",
       "      <td>-61.866600</td>\n",
       "      <td>Non-Indigenous</td>\n",
       "      <td>NaN</td>\n",
       "      <td>...</td>\n",
       "      <td>No</td>\n",
       "      <td>12475.0</td>\n",
       "      <td>Heavy fuel oil</td>\n",
       "      <td>Hydro-Quebec</td>\n",
       "      <td>67044.0</td>\n",
       "      <td>181648.00</td>\n",
       "      <td>0.70</td>\n",
       "      <td>$/l</td>\n",
       "      <td>0.0</td>\n",
       "      <td>NaN</td>\n",
       "    </tr>\n",
       "    <tr>\n",
       "      <th>1</th>\n",
       "      <td>2</td>\n",
       "      <td>Ocean Falls</td>\n",
       "      <td>NaN</td>\n",
       "      <td>BC</td>\n",
       "      <td>Active &gt; Multi-community local microgrid</td>\n",
       "      <td>Settlement</td>\n",
       "      <td>52.350000</td>\n",
       "      <td>-127.700000</td>\n",
       "      <td>Non-Indigenous</td>\n",
       "      <td>NaN</td>\n",
       "      <td>...</td>\n",
       "      <td>No</td>\n",
       "      <td>203.0</td>\n",
       "      <td>Hydro</td>\n",
       "      <td>BC Hydro</td>\n",
       "      <td>NaN</td>\n",
       "      <td>NaN</td>\n",
       "      <td>NaN</td>\n",
       "      <td>NaN</td>\n",
       "      <td>10000.0</td>\n",
       "      <td>NaN</td>\n",
       "    </tr>\n",
       "    <tr>\n",
       "      <th>2</th>\n",
       "      <td>3</td>\n",
       "      <td>Whitehorse 8</td>\n",
       "      <td>NaN</td>\n",
       "      <td>YT</td>\n",
       "      <td>Active &gt; Grid connected: Yukon or NWT grid</td>\n",
       "      <td>Settlement</td>\n",
       "      <td>60.750000</td>\n",
       "      <td>-135.080000</td>\n",
       "      <td>Indigenous</td>\n",
       "      <td>First Nation</td>\n",
       "      <td>...</td>\n",
       "      <td>No</td>\n",
       "      <td>NaN</td>\n",
       "      <td>Prov./terr. grid</td>\n",
       "      <td>Yukon Energy Corp.</td>\n",
       "      <td>NaN</td>\n",
       "      <td>NaN</td>\n",
       "      <td>0.33</td>\n",
       "      <td>$/l</td>\n",
       "      <td>0.0</td>\n",
       "      <td>NaN</td>\n",
       "    </tr>\n",
       "    <tr>\n",
       "      <th>3</th>\n",
       "      <td>4</td>\n",
       "      <td>Bella Bella</td>\n",
       "      <td>Bella Bella 1</td>\n",
       "      <td>BC</td>\n",
       "      <td>Active &gt; Multi-community local microgrid</td>\n",
       "      <td>Settlement</td>\n",
       "      <td>52.160340</td>\n",
       "      <td>-128.145480</td>\n",
       "      <td>Indigenous</td>\n",
       "      <td>First Nation</td>\n",
       "      <td>...</td>\n",
       "      <td>No</td>\n",
       "      <td>1019.0</td>\n",
       "      <td>Hydro</td>\n",
       "      <td>BC Hydro</td>\n",
       "      <td>4900.0</td>\n",
       "      <td>982.87</td>\n",
       "      <td>NaN</td>\n",
       "      <td>NaN</td>\n",
       "      <td>0.0</td>\n",
       "      <td>NaN</td>\n",
       "    </tr>\n",
       "    <tr>\n",
       "      <th>4</th>\n",
       "      <td>5</td>\n",
       "      <td>Wagisla</td>\n",
       "      <td>NaN</td>\n",
       "      <td>BC</td>\n",
       "      <td>Active &gt; Multi-community local microgrid</td>\n",
       "      <td>Settlement</td>\n",
       "      <td>52.161667</td>\n",
       "      <td>-128.143611</td>\n",
       "      <td>Indigenous</td>\n",
       "      <td>First Nation</td>\n",
       "      <td>...</td>\n",
       "      <td>No</td>\n",
       "      <td>NaN</td>\n",
       "      <td>Hydro</td>\n",
       "      <td>BC Hydro</td>\n",
       "      <td>NaN</td>\n",
       "      <td>NaN</td>\n",
       "      <td>NaN</td>\n",
       "      <td>NaN</td>\n",
       "      <td>0.0</td>\n",
       "      <td>NaN</td>\n",
       "    </tr>\n",
       "  </tbody>\n",
       "</table>\n",
       "<p>5 rows × 21 columns</p>\n",
       "</div>"
      ],
      "text/plain": [
       "   OBJECT ID            Community name Alternative community name  \\\n",
       "0          1  Les Îles-de-la-Madeleine           Magdalen Islands   \n",
       "1          2               Ocean Falls                        NaN   \n",
       "2          3              Whitehorse 8                        NaN   \n",
       "3          4               Bella Bella              Bella Bella 1   \n",
       "4          5                   Wagisla                        NaN   \n",
       "\n",
       "  Province/Territory                     Community record status  \\\n",
       "0                 QC    Active > Multi-community local microgrid   \n",
       "1                 BC    Active > Multi-community local microgrid   \n",
       "2                 YT  Active > Grid connected: Yukon or NWT grid   \n",
       "3                 BC    Active > Multi-community local microgrid   \n",
       "4                 BC    Active > Multi-community local microgrid   \n",
       "\n",
       "  Community type  Latitude (°)  Longitude (°) Community classification  \\\n",
       "0     Settlement     47.383330     -61.866600           Non-Indigenous   \n",
       "1     Settlement     52.350000    -127.700000           Non-Indigenous   \n",
       "2     Settlement     60.750000    -135.080000               Indigenous   \n",
       "3     Settlement     52.160340    -128.145480               Indigenous   \n",
       "4     Settlement     52.161667    -128.143611               Indigenous   \n",
       "\n",
       "  Indigenous category  ... Is this a fly-in community? Population  \\\n",
       "0                 NaN  ...                          No    12475.0   \n",
       "1                 NaN  ...                          No      203.0   \n",
       "2        First Nation  ...                          No        NaN   \n",
       "3        First Nation  ...                          No     1019.0   \n",
       "4        First Nation  ...                          No        NaN   \n",
       "\n",
       "   Main power source Name of service provider  \\\n",
       "0     Heavy fuel oil             Hydro-Quebec   \n",
       "1              Hydro                 BC Hydro   \n",
       "2   Prov./terr. grid       Yukon Energy Corp.   \n",
       "3              Hydro                 BC Hydro   \n",
       "4              Hydro                 BC Hydro   \n",
       "\n",
       "  Total fossil fuel generating capacity (kW)  \\\n",
       "0                                    67044.0   \n",
       "1                                        NaN   \n",
       "2                                        NaN   \n",
       "3                                     4900.0   \n",
       "4                                        NaN   \n",
       "\n",
       "   Annual fossil fuel generation (MWh/yr)  Price of fuel at site  Units  \\\n",
       "0                               181648.00                   0.70    $/l   \n",
       "1                                     NaN                    NaN    NaN   \n",
       "2                                     NaN                   0.33    $/l   \n",
       "3                                  982.87                    NaN    NaN   \n",
       "4                                     NaN                    NaN    NaN   \n",
       "\n",
       "  Total renewable energy generation (kW)  Community energy plan  \n",
       "0                                    0.0                    NaN  \n",
       "1                                10000.0                    NaN  \n",
       "2                                    0.0                    NaN  \n",
       "3                                    0.0                    NaN  \n",
       "4                                    0.0                    NaN  \n",
       "\n",
       "[5 rows x 21 columns]"
      ]
     },
     "execution_count": 13,
     "metadata": {},
     "output_type": "execute_result"
    }
   ],
   "source": [
    "df = pd.read_csv(r\"E:\\Python-Notebooks\\big_data_challenge\\datasets_bdc\\rced_en (1).csv\")\n",
    "df.replace('Non-indigenous', 'Non-Indigenous', inplace=True)\n",
    "df.head()"
   ]
  },
  {
   "cell_type": "code",
   "execution_count": 14,
   "id": "68223ce3",
   "metadata": {},
   "outputs": [
    {
     "data": {
      "text/html": [
       "<div>\n",
       "<style scoped>\n",
       "    .dataframe tbody tr th:only-of-type {\n",
       "        vertical-align: middle;\n",
       "    }\n",
       "\n",
       "    .dataframe tbody tr th {\n",
       "        vertical-align: top;\n",
       "    }\n",
       "\n",
       "    .dataframe thead th {\n",
       "        text-align: right;\n",
       "    }\n",
       "</style>\n",
       "<table border=\"1\" class=\"dataframe\">\n",
       "  <thead>\n",
       "    <tr style=\"text-align: right;\">\n",
       "      <th></th>\n",
       "      <th>Province/Territory</th>\n",
       "      <th>Community record status</th>\n",
       "      <th>Community type</th>\n",
       "      <th>Community classification</th>\n",
       "      <th>Indigenous category</th>\n",
       "      <th>Is there year-round road access to this community?</th>\n",
       "      <th>Population</th>\n",
       "      <th>Main power source</th>\n",
       "      <th>Total renewable energy generation (kW)</th>\n",
       "    </tr>\n",
       "  </thead>\n",
       "  <tbody>\n",
       "    <tr>\n",
       "      <th>0</th>\n",
       "      <td>QC</td>\n",
       "      <td>Active &gt; Multi-community local microgrid</td>\n",
       "      <td>Settlement</td>\n",
       "      <td>Non-Indigenous</td>\n",
       "      <td>NaN</td>\n",
       "      <td>No</td>\n",
       "      <td>12475.0</td>\n",
       "      <td>Heavy fuel oil</td>\n",
       "      <td>0.0</td>\n",
       "    </tr>\n",
       "    <tr>\n",
       "      <th>1</th>\n",
       "      <td>BC</td>\n",
       "      <td>Active &gt; Multi-community local microgrid</td>\n",
       "      <td>Settlement</td>\n",
       "      <td>Non-Indigenous</td>\n",
       "      <td>NaN</td>\n",
       "      <td>No</td>\n",
       "      <td>203.0</td>\n",
       "      <td>Hydro</td>\n",
       "      <td>10000.0</td>\n",
       "    </tr>\n",
       "    <tr>\n",
       "      <th>2</th>\n",
       "      <td>YT</td>\n",
       "      <td>Active &gt; Grid connected: Yukon or NWT grid</td>\n",
       "      <td>Settlement</td>\n",
       "      <td>Indigenous</td>\n",
       "      <td>First Nation</td>\n",
       "      <td>Yes</td>\n",
       "      <td>NaN</td>\n",
       "      <td>Prov./terr. grid</td>\n",
       "      <td>0.0</td>\n",
       "    </tr>\n",
       "    <tr>\n",
       "      <th>3</th>\n",
       "      <td>BC</td>\n",
       "      <td>Active &gt; Multi-community local microgrid</td>\n",
       "      <td>Settlement</td>\n",
       "      <td>Indigenous</td>\n",
       "      <td>First Nation</td>\n",
       "      <td>No</td>\n",
       "      <td>1019.0</td>\n",
       "      <td>Hydro</td>\n",
       "      <td>0.0</td>\n",
       "    </tr>\n",
       "    <tr>\n",
       "      <th>4</th>\n",
       "      <td>BC</td>\n",
       "      <td>Active &gt; Multi-community local microgrid</td>\n",
       "      <td>Settlement</td>\n",
       "      <td>Indigenous</td>\n",
       "      <td>First Nation</td>\n",
       "      <td>No</td>\n",
       "      <td>NaN</td>\n",
       "      <td>Hydro</td>\n",
       "      <td>0.0</td>\n",
       "    </tr>\n",
       "  </tbody>\n",
       "</table>\n",
       "</div>"
      ],
      "text/plain": [
       "  Province/Territory                     Community record status  \\\n",
       "0                 QC    Active > Multi-community local microgrid   \n",
       "1                 BC    Active > Multi-community local microgrid   \n",
       "2                 YT  Active > Grid connected: Yukon or NWT grid   \n",
       "3                 BC    Active > Multi-community local microgrid   \n",
       "4                 BC    Active > Multi-community local microgrid   \n",
       "\n",
       "  Community type Community classification Indigenous category  \\\n",
       "0     Settlement           Non-Indigenous                 NaN   \n",
       "1     Settlement           Non-Indigenous                 NaN   \n",
       "2     Settlement               Indigenous        First Nation   \n",
       "3     Settlement               Indigenous        First Nation   \n",
       "4     Settlement               Indigenous        First Nation   \n",
       "\n",
       "  Is there year-round road access to this community?  Population  \\\n",
       "0                                                 No     12475.0   \n",
       "1                                                 No       203.0   \n",
       "2                                                Yes         NaN   \n",
       "3                                                 No      1019.0   \n",
       "4                                                 No         NaN   \n",
       "\n",
       "  Main power source  Total renewable energy generation (kW)  \n",
       "0    Heavy fuel oil                                     0.0  \n",
       "1             Hydro                                 10000.0  \n",
       "2  Prov./terr. grid                                     0.0  \n",
       "3             Hydro                                     0.0  \n",
       "4             Hydro                                     0.0  "
      ]
     },
     "execution_count": 14,
     "metadata": {},
     "output_type": "execute_result"
    }
   ],
   "source": [
    "df = df[['Province/Territory','Community record status', 'Community type', 'Community classification', 'Indigenous category',\n",
    "        'Is there year-round road access to this community?', 'Population', 'Main power source', \n",
    "         'Total renewable energy generation (kW)']]\n",
    "df.head()"
   ]
  },
  {
   "cell_type": "code",
   "execution_count": 15,
   "id": "2d7e1b05",
   "metadata": {},
   "outputs": [],
   "source": [
    "def getUniqueValues(arr):\n",
    "    track = set()\n",
    "    for i in arr:\n",
    "        track.add(i)\n",
    "    return track"
   ]
  },
  {
   "cell_type": "code",
   "execution_count": 16,
   "id": "7788338b",
   "metadata": {},
   "outputs": [
    {
     "name": "stdout",
     "output_type": "stream",
     "text": [
      "{'MB': 0, 'BC': 1, 'NU': 2, 'SK': 3, 'NL': 4, 'AB': 5, 'ON': 6, 'YT': 7, 'NT': 8, 'QC': 9}\n"
     ]
    }
   ],
   "source": [
    "provinces = list(getUniqueValues(df['Province/Territory']))\n",
    "province_map = createMap(provinces)\n",
    "provinces\n",
    "print(province_map)"
   ]
  },
  {
   "cell_type": "code",
   "execution_count": 17,
   "id": "c21f9342",
   "metadata": {},
   "outputs": [
    {
     "data": {
      "text/plain": [
       "{'Active > Single community off-grid': 0,\n",
       " 'Active > Multi-community local microgrid': 1,\n",
       " 'Active > Grid connected: Yukon or NWT grid': 2}"
      ]
     },
     "execution_count": 17,
     "metadata": {},
     "output_type": "execute_result"
    }
   ],
   "source": [
    "grids = list(getUniqueValues(df['Community record status']))\n",
    "grid_map = createMap(grids)\n",
    "grid_map"
   ]
  },
  {
   "cell_type": "code",
   "execution_count": 18,
   "id": "b97e498e",
   "metadata": {},
   "outputs": [
    {
     "data": {
      "text/plain": [
       "{'Settlement': 0, 'Commercial': 1}"
      ]
     },
     "execution_count": 18,
     "metadata": {},
     "output_type": "execute_result"
    }
   ],
   "source": [
    "comms = list(getUniqueValues(df['Community type']))\n",
    "comms_map = createMap(comms)\n",
    "comms_map"
   ]
  },
  {
   "cell_type": "code",
   "execution_count": 19,
   "id": "a429e040",
   "metadata": {},
   "outputs": [
    {
     "data": {
      "text/plain": [
       "{'Non-Indigenous': 0, 'Indigenous': 1}"
      ]
     },
     "execution_count": 19,
     "metadata": {},
     "output_type": "execute_result"
    }
   ],
   "source": [
    "comm_class = list(getUniqueValues(df['Community classification']))\n",
    "comm_class_map = createMap(comm_class)\n",
    "comm_class_map"
   ]
  },
  {
   "cell_type": "code",
   "execution_count": 20,
   "id": "91eb74b0",
   "metadata": {},
   "outputs": [
    {
     "data": {
      "text/plain": [
       "{nan: 0, 'First Nation': 1, 'Inuit': 2, 'Indigenous Collective': 3}"
      ]
     },
     "execution_count": 20,
     "metadata": {},
     "output_type": "execute_result"
    }
   ],
   "source": [
    "indigenous = list(getUniqueValues(df['Indigenous category']))\n",
    "indigenous_map = createMap(indigenous)\n",
    "indigenous_map"
   ]
  },
  {
   "cell_type": "code",
   "execution_count": 21,
   "id": "6442f17a",
   "metadata": {},
   "outputs": [
    {
     "data": {
      "text/plain": [
       "{'No': 0, 'Yes': 1}"
      ]
     },
     "execution_count": 21,
     "metadata": {},
     "output_type": "execute_result"
    }
   ],
   "source": [
    "road_access = ['No', 'Yes']\n",
    "road_map = createMap(road_access[0:2])\n",
    "road_map"
   ]
  },
  {
   "cell_type": "code",
   "execution_count": 22,
   "id": "8c40b858",
   "metadata": {},
   "outputs": [
    {
     "data": {
      "text/plain": [
       "{'Hydro': 1,\n",
       " 'Other': 2,\n",
       " 'Diesel': 2,\n",
       " 'Natural Gas': 2,\n",
       " 'Prov./terr. grid': 2,\n",
       " 'Heavy fuel oil': 2,\n",
       " 'Unknown': 2}"
      ]
     },
     "execution_count": 22,
     "metadata": {},
     "output_type": "execute_result"
    }
   ],
   "source": [
    "power = list(getUniqueValues(df['Main power source']))\n",
    "power_map = {'Hydro':1, 'Other':2, 'Diesel':2, 'Natural Gas':2, 'Prov./terr. grid':2, 'Heavy fuel oil':2, 'Unknown':2}\n",
    "power_map"
   ]
  },
  {
   "cell_type": "code",
   "execution_count": 23,
   "id": "474cc7ae",
   "metadata": {},
   "outputs": [
    {
     "data": {
      "text/plain": [
       "[['MB', 'BC', 'NU', 'SK', 'NL', 'AB', 'ON', 'YT', 'NT', 'QC'],\n",
       " ['Active > Single community off-grid',\n",
       "  'Active > Multi-community local microgrid',\n",
       "  'Active > Grid connected: Yukon or NWT grid'],\n",
       " ['Settlement', 'Commercial'],\n",
       " ['Non-Indigenous', 'Indigenous'],\n",
       " [nan, 'First Nation', 'Inuit', 'Indigenous Collective'],\n",
       " ['No', 'Yes'],\n",
       " ['Prov./terr. grid',\n",
       "  'Diesel',\n",
       "  'Hydro',\n",
       "  'Natural Gas',\n",
       "  'Heavy fuel oil',\n",
       "  'Other',\n",
       "  'Unknown']]"
      ]
     },
     "execution_count": 23,
     "metadata": {},
     "output_type": "execute_result"
    }
   ],
   "source": [
    "col_list = [provinces, grids, comms, comm_class, indigenous, road_access, power]\n",
    "col_map = [province_map, grid_map, comms_map, comm_class_map, indigenous_map, road_map, power_map]\n",
    "col_list"
   ]
  },
  {
   "cell_type": "code",
   "execution_count": 24,
   "id": "e4704882",
   "metadata": {},
   "outputs": [
    {
     "name": "stdout",
     "output_type": "stream",
     "text": [
      "0\n",
      "['MB', 'BC', 'NU', 'SK', 'NL', 'AB', 'ON', 'YT', 'NT', 'QC']\n",
      "1\n",
      "['Active > Single community off-grid', 'Active > Multi-community local microgrid', 'Active > Grid connected: Yukon or NWT grid']\n",
      "2\n",
      "['Settlement', 'Commercial']\n",
      "3\n",
      "['Non-Indigenous', 'Indigenous']\n",
      "4\n",
      "[nan, 'First Nation', 'Inuit', 'Indigenous Collective']\n",
      "5\n",
      "['No', 'Yes']\n",
      "6\n",
      "['Prov./terr. grid', 'Diesel', 'Hydro', 'Natural Gas', 'Heavy fuel oil', 'Other', 'Unknown']\n"
     ]
    }
   ],
   "source": [
    "new_df = df.copy()\n",
    "for i in range(len(col_list)):\n",
    "    print(i)\n",
    "    print(col_list[i])\n",
    "    for el in col_list[i]:\n",
    "        new_df.replace(el, \n",
    "                       col_map[i][el], inplace=True)"
   ]
  },
  {
   "cell_type": "code",
   "execution_count": 25,
   "id": "98d8ae41",
   "metadata": {},
   "outputs": [
    {
     "data": {
      "text/html": [
       "<div>\n",
       "<style scoped>\n",
       "    .dataframe tbody tr th:only-of-type {\n",
       "        vertical-align: middle;\n",
       "    }\n",
       "\n",
       "    .dataframe tbody tr th {\n",
       "        vertical-align: top;\n",
       "    }\n",
       "\n",
       "    .dataframe thead th {\n",
       "        text-align: right;\n",
       "    }\n",
       "</style>\n",
       "<table border=\"1\" class=\"dataframe\">\n",
       "  <thead>\n",
       "    <tr style=\"text-align: right;\">\n",
       "      <th></th>\n",
       "      <th>Province/Territory</th>\n",
       "      <th>Community record status</th>\n",
       "      <th>Community type</th>\n",
       "      <th>Community classification</th>\n",
       "      <th>Indigenous category</th>\n",
       "      <th>Is there year-round road access to this community?</th>\n",
       "      <th>Population</th>\n",
       "      <th>Main power source</th>\n",
       "      <th>Total renewable energy generation (kW)</th>\n",
       "    </tr>\n",
       "  </thead>\n",
       "  <tbody>\n",
       "    <tr>\n",
       "      <th>0</th>\n",
       "      <td>9</td>\n",
       "      <td>1</td>\n",
       "      <td>0</td>\n",
       "      <td>0</td>\n",
       "      <td>0</td>\n",
       "      <td>0</td>\n",
       "      <td>12475.0</td>\n",
       "      <td>2</td>\n",
       "      <td>0.0</td>\n",
       "    </tr>\n",
       "    <tr>\n",
       "      <th>1</th>\n",
       "      <td>1</td>\n",
       "      <td>1</td>\n",
       "      <td>0</td>\n",
       "      <td>0</td>\n",
       "      <td>0</td>\n",
       "      <td>0</td>\n",
       "      <td>203.0</td>\n",
       "      <td>1</td>\n",
       "      <td>10000.0</td>\n",
       "    </tr>\n",
       "    <tr>\n",
       "      <th>2</th>\n",
       "      <td>7</td>\n",
       "      <td>2</td>\n",
       "      <td>0</td>\n",
       "      <td>1</td>\n",
       "      <td>1</td>\n",
       "      <td>1</td>\n",
       "      <td>0.0</td>\n",
       "      <td>2</td>\n",
       "      <td>0.0</td>\n",
       "    </tr>\n",
       "    <tr>\n",
       "      <th>3</th>\n",
       "      <td>1</td>\n",
       "      <td>1</td>\n",
       "      <td>0</td>\n",
       "      <td>1</td>\n",
       "      <td>1</td>\n",
       "      <td>0</td>\n",
       "      <td>1019.0</td>\n",
       "      <td>1</td>\n",
       "      <td>0.0</td>\n",
       "    </tr>\n",
       "    <tr>\n",
       "      <th>4</th>\n",
       "      <td>1</td>\n",
       "      <td>1</td>\n",
       "      <td>0</td>\n",
       "      <td>1</td>\n",
       "      <td>1</td>\n",
       "      <td>0</td>\n",
       "      <td>0.0</td>\n",
       "      <td>1</td>\n",
       "      <td>0.0</td>\n",
       "    </tr>\n",
       "  </tbody>\n",
       "</table>\n",
       "</div>"
      ],
      "text/plain": [
       "   Province/Territory  Community record status  Community type  \\\n",
       "0                   9                        1               0   \n",
       "1                   1                        1               0   \n",
       "2                   7                        2               0   \n",
       "3                   1                        1               0   \n",
       "4                   1                        1               0   \n",
       "\n",
       "   Community classification  Indigenous category  \\\n",
       "0                         0                    0   \n",
       "1                         0                    0   \n",
       "2                         1                    1   \n",
       "3                         1                    1   \n",
       "4                         1                    1   \n",
       "\n",
       "   Is there year-round road access to this community?  Population  \\\n",
       "0                                                  0      12475.0   \n",
       "1                                                  0        203.0   \n",
       "2                                                  1          0.0   \n",
       "3                                                  0       1019.0   \n",
       "4                                                  0          0.0   \n",
       "\n",
       "   Main power source  Total renewable energy generation (kW)  \n",
       "0                  2                                     0.0  \n",
       "1                  1                                 10000.0  \n",
       "2                  2                                     0.0  \n",
       "3                  1                                     0.0  \n",
       "4                  1                                     0.0  "
      ]
     },
     "execution_count": 25,
     "metadata": {},
     "output_type": "execute_result"
    }
   ],
   "source": [
    "new_df.dropna()\n",
    "new_df.head()\n",
    "grids = ['single co', 'Single off grid',  'multi off grid']\n",
    "#indigenous[2] = 'collective'\n",
    "new_df.head()"
   ]
  },
  {
   "cell_type": "code",
   "execution_count": 26,
   "id": "c36c3fb6",
   "metadata": {},
   "outputs": [],
   "source": [
    "def ren_energy_col_val(col, val, df):\n",
    "    sum = 0\n",
    "    ren_energy_col = 'Total renewable energy generation (kW)'\n",
    "    for i in range(len(df)):\n",
    "        if df.loc[i, col] == val:\n",
    "            sum += int(df.loc[i, ren_energy_col])\n",
    "    print(sum)\n",
    "    return sum"
   ]
  },
  {
   "cell_type": "code",
   "execution_count": 27,
   "id": "f57bbc99",
   "metadata": {},
   "outputs": [
    {
     "name": "stdout",
     "output_type": "stream",
     "text": [
      "Province/Territory\n",
      "0\n",
      "35315\n",
      "0\n",
      "0\n",
      "25137\n",
      "851355\n",
      "1382\n",
      "0\n",
      "194803\n",
      "128738\n"
     ]
    },
    {
     "data": {
      "image/png": "[encoded data removed]",
      "text/plain": [
       "<Figure size 432x288 with 1 Axes>"
      ]
     },
     "metadata": {},
     "output_type": "display_data"
    },
    {
     "name": "stdout",
     "output_type": "stream",
     "text": [
      "Community classification\n",
      "1144864\n",
      "91866\n"
     ]
    },
    {
     "data": {
      "image/png": "[encoded data removed]",
      "text/plain": [
       "<Figure size 432x288 with 1 Axes>"
      ]
     },
     "metadata": {},
     "output_type": "display_data"
    },
    {
     "name": "stdout",
     "output_type": "stream",
     "text": [
      "Is there year-round road access to this community?\n",
      "182070\n",
      "1054660\n"
     ]
    },
    {
     "data": {
      "image/png": "[encoded data removed]",
      "text/plain": [
       "<Figure size 432x288 with 1 Axes>"
      ]
     },
     "metadata": {},
     "output_type": "display_data"
    },
    {
     "name": "stdout",
     "output_type": "stream",
     "text": [
      "Community type\n",
      "1211941\n",
      "24789\n"
     ]
    },
    {
     "data": {
      "image/png": "[encoded data removed]",
      "text/plain": [
       "<Figure size 432x288 with 1 Axes>"
      ]
     },
     "metadata": {},
     "output_type": "display_data"
    }
   ],
   "source": [
    "grids = ['single comm off', 'multi comm local', 'grid connect']\n",
    "graph_map = {'Province/Territory':province_map, 'Community classification':comm_class_map,\n",
    "             'Is there year-round road access to this community?':road_map, 'Community type':comms_map}\n",
    "\n",
    "for key in graph_map:\n",
    "    print(key)\n",
    "    data = []\n",
    "    labels = []\n",
    "    \n",
    "    for val in graph_map[key]:\n",
    "        labels.append(val)\n",
    "        energy = ren_energy_col_val(key, graph_map[key][val], new_df)\n",
    "        data.append(energy)\n",
    "        \n",
    "   # print(type(graph_map[key]))\n",
    "    plt.bar(labels, data)\n",
    "    plt.title('Renewable energy data')\n",
    "    plt.xlabel(key)\n",
    "    plt.ylabel('total renewable energy generation (kW)')\n",
    "    plt.show()"
   ]
  },
  {
   "cell_type": "code",
   "execution_count": null,
   "id": "4032075c",
   "metadata": {},
   "outputs": [],
   "source": []
  },
  {
   "cell_type": "code",
   "execution_count": 28,
   "id": "d17c93c3",
   "metadata": {},
   "outputs": [
    {
     "name": "stdout",
     "output_type": "stream",
     "text": [
      "1144864\n",
      "91811\n",
      "55\n",
      "0\n"
     ]
    },
    {
     "data": {
      "image/png": "[encoded data removed]",
      "text/plain": [
       "<Figure size 432x288 with 1 Axes>"
      ]
     },
     "metadata": {},
     "output_type": "display_data"
    }
   ],
   "source": [
    "data = []\n",
    "keys = ['non-indigenous', 'First nation', 'collective', 'Inuit']\n",
    "for key in indigenous_map:\n",
    "    energy = ren_energy_col_val('Indigenous category', indigenous_map[key], new_df)\n",
    "    data.append(energy)\n",
    "plt.bar(keys, data)\n",
    "plt.xlabel('Indigenous category')\n",
    "plt.ylabel('total renewable energy generation (kW)')\n",
    "plt.show()"
   ]
  },
  {
   "cell_type": "code",
   "execution_count": 29,
   "id": "1d28291d",
   "metadata": {},
   "outputs": [
    {
     "name": "stdout",
     "output_type": "stream",
     "text": [
      "903591\n",
      "154853\n",
      "178286\n"
     ]
    },
    {
     "data": {
      "image/png": "[encoded data removed]",
      "text/plain": [
       "<Figure size 432x288 with 1 Axes>"
      ]
     },
     "metadata": {},
     "output_type": "display_data"
    }
   ],
   "source": [
    "data = []\n",
    "for key in grid_map:\n",
    "    energy = ren_energy_col_val('Community record status', grid_map[key], new_df)\n",
    "    data.append(energy)\n",
    "plt.bar(grids, data)\n",
    "plt.xlabel('Community grid type')\n",
    "plt.ylabel('total renewable energy generation (kW)')\n",
    "plt.show()"
   ]
  },
  {
   "cell_type": "code",
   "execution_count": 30,
   "id": "cf64677e",
   "metadata": {},
   "outputs": [],
   "source": [
    "def createMap(arr):\n",
    "    mpa = {}\n",
    "    for i in range(len(arr)):\n",
    "        mpa[arr[i]] = i\n",
    "    return mpa"
   ]
  },
  {
   "cell_type": "code",
   "execution_count": 31,
   "id": "517b877b",
   "metadata": {},
   "outputs": [],
   "source": [
    "def get_renewable_energy(col):\n",
    "    \n",
    "    values = {}\n",
    "    \n",
    "    for i in range(len(new_df)):\n",
    "        key = new_df.loc[i, col]\n",
    "        val = new_df.loc[i, 'Total renewable energy generation (kW)']\n",
    "        \n",
    "        if key in values:\n",
    "            values[key] += val\n",
    "        else:\n",
    "            values[key] = val\n",
    "    return values"
   ]
  },
  {
   "cell_type": "code",
   "execution_count": 32,
   "id": "c18f6733",
   "metadata": {},
   "outputs": [],
   "source": [
    "def extract_values(dct):\n",
    "    data = []\n",
    "    for key in dct:\n",
    "        data.append(dct[key])\n",
    "    return data"
   ]
  },
  {
   "cell_type": "code",
   "execution_count": 33,
   "id": "347a8d4c",
   "metadata": {},
   "outputs": [
    {
     "name": "stdout",
     "output_type": "stream",
     "text": [
      "276\n",
      "276\n"
     ]
    }
   ],
   "source": [
    "population = np.array(new_df['Population'])\n",
    "renewable = np.array(new_df['Total renewable energy generation (kW)'])\n",
    "print(len(population))\n",
    "print(len(renewable))"
   ]
  },
  {
   "cell_type": "code",
   "execution_count": 34,
   "id": "dc010355",
   "metadata": {},
   "outputs": [],
   "source": [
    "clf = LinearRegression()\n",
    "x = np.array(new_df.drop(['Total renewable energy generation (kW)'], 1))\n",
    "y = np.array(new_df['Total renewable energy generation (kW)'])"
   ]
  },
  {
   "cell_type": "code",
   "execution_count": 35,
   "id": "8fe6485f",
   "metadata": {},
   "outputs": [
    {
     "name": "stdout",
     "output_type": "stream",
     "text": [
      "-0.02853880949764309\n",
      "[ 2.17954268e+02 -1.24472547e+02  1.54698020e+03 -6.95563405e+02\n",
      " -2.75745806e+01 -1.04340776e+03 -4.14320308e-02 -5.34303120e+03]\n",
      "10688.105023704235\n"
     ]
    }
   ],
   "source": [
    "x_train, x_test, y_train, y_test = model_selection.train_test_split(x,y, test_size=0.20)\n",
    "clf.fit(x_train, y_train)\n",
    "accuracy = clf.score(x_test, y_test)\n",
    "print(accuracy)\n",
    "print(clf.coef_)\n",
    "print(clf.intercept_)"
   ]
  },
  {
   "cell_type": "code",
   "execution_count": 36,
   "id": "d4ea4994",
   "metadata": {},
   "outputs": [
    {
     "data": {
      "image/png": "[encoded data removed]",
      "text/plain": [
       "<Figure size 432x288 with 1 Axes>"
      ]
     },
     "metadata": {},
     "output_type": "display_data"
    }
   ],
   "source": [
    "plt.plot(range(0,276), renewable)\n",
    "#y = clf.coef_ * x + clf.intercept_\n",
    "x = range(0,276)\n",
    "plt.plot(x,\n",
    "         clf.predict(new_df.drop(['Total renewable energy generation (kW)'], 1).loc[x]))\n",
    "plt.xlabel('index')\n",
    "plt.ylabel('Total renewable energy generation (kW)')\n",
    "plt.show()"
   ]
  },
  {
   "cell_type": "code",
   "execution_count": 37,
   "id": "825bf93c",
   "metadata": {},
   "outputs": [
    {
     "ename": "ValueError",
     "evalue": "matmul: Input operand 1 has a mismatch in its core dimension 0, with gufunc signature (n?,k),(k,m?)->(n?,m?) (size 8 is different from 6)",
     "output_type": "error",
     "traceback": [
      "\u001b[1;31m---------------------------------------------------------------------------\u001b[0m",
      "\u001b[1;31mValueError\u001b[0m                                Traceback (most recent call last)",
      "\u001b[1;32m<ipython-input-37-4b5e9e29f17f>\u001b[0m in \u001b[0;36m<module>\u001b[1;34m\u001b[0m\n\u001b[0;32m      5\u001b[0m \u001b[0mx_train\u001b[0m\u001b[1;33m,\u001b[0m \u001b[0mx_test\u001b[0m\u001b[1;33m,\u001b[0m \u001b[0my_train\u001b[0m\u001b[1;33m,\u001b[0m \u001b[0my_test\u001b[0m \u001b[1;33m=\u001b[0m \u001b[0mmodel_selection\u001b[0m\u001b[1;33m.\u001b[0m\u001b[0mtrain_test_split\u001b[0m\u001b[1;33m(\u001b[0m\u001b[0mx\u001b[0m\u001b[1;33m,\u001b[0m\u001b[0my\u001b[0m\u001b[1;33m,\u001b[0m \u001b[0mtest_size\u001b[0m\u001b[1;33m=\u001b[0m\u001b[1;36m0.20\u001b[0m\u001b[1;33m)\u001b[0m\u001b[1;33m\u001b[0m\u001b[1;33m\u001b[0m\u001b[0m\n\u001b[0;32m      6\u001b[0m \u001b[0mclf2\u001b[0m\u001b[1;33m.\u001b[0m\u001b[0mfit\u001b[0m\u001b[1;33m(\u001b[0m\u001b[0mx_train\u001b[0m\u001b[1;33m,\u001b[0m \u001b[0my_train\u001b[0m\u001b[1;33m)\u001b[0m\u001b[1;33m\u001b[0m\u001b[1;33m\u001b[0m\u001b[0m\n\u001b[1;32m----> 7\u001b[1;33m \u001b[0maccuracy\u001b[0m \u001b[1;33m=\u001b[0m \u001b[0mclf\u001b[0m\u001b[1;33m.\u001b[0m\u001b[0mscore\u001b[0m\u001b[1;33m(\u001b[0m\u001b[0mx_test\u001b[0m\u001b[1;33m,\u001b[0m \u001b[0my_test\u001b[0m\u001b[1;33m)\u001b[0m\u001b[1;33m\u001b[0m\u001b[1;33m\u001b[0m\u001b[0m\n\u001b[0m",
      "\u001b[1;32mE:\\Python-Notebooks\\Anaconda3\\lib\\site-packages\\sklearn\\base.py\u001b[0m in \u001b[0;36mscore\u001b[1;34m(self, X, y, sample_weight)\u001b[0m\n\u001b[0;32m    551\u001b[0m \u001b[1;33m\u001b[0m\u001b[0m\n\u001b[0;32m    552\u001b[0m         \u001b[1;32mfrom\u001b[0m \u001b[1;33m.\u001b[0m\u001b[0mmetrics\u001b[0m \u001b[1;32mimport\u001b[0m \u001b[0mr2_score\u001b[0m\u001b[1;33m\u001b[0m\u001b[1;33m\u001b[0m\u001b[0m\n\u001b[1;32m--> 553\u001b[1;33m         \u001b[0my_pred\u001b[0m \u001b[1;33m=\u001b[0m \u001b[0mself\u001b[0m\u001b[1;33m.\u001b[0m\u001b[0mpredict\u001b[0m\u001b[1;33m(\u001b[0m\u001b[0mX\u001b[0m\u001b[1;33m)\u001b[0m\u001b[1;33m\u001b[0m\u001b[1;33m\u001b[0m\u001b[0m\n\u001b[0m\u001b[0;32m    554\u001b[0m         \u001b[1;32mreturn\u001b[0m \u001b[0mr2_score\u001b[0m\u001b[1;33m(\u001b[0m\u001b[0my\u001b[0m\u001b[1;33m,\u001b[0m \u001b[0my_pred\u001b[0m\u001b[1;33m,\u001b[0m \u001b[0msample_weight\u001b[0m\u001b[1;33m=\u001b[0m\u001b[0msample_weight\u001b[0m\u001b[1;33m)\u001b[0m\u001b[1;33m\u001b[0m\u001b[1;33m\u001b[0m\u001b[0m\n\u001b[0;32m    555\u001b[0m \u001b[1;33m\u001b[0m\u001b[0m\n",
      "\u001b[1;32mE:\\Python-Notebooks\\Anaconda3\\lib\\site-packages\\sklearn\\linear_model\\_base.py\u001b[0m in \u001b[0;36mpredict\u001b[1;34m(self, X)\u001b[0m\n\u001b[0;32m    236\u001b[0m             \u001b[0mReturns\u001b[0m \u001b[0mpredicted\u001b[0m \u001b[0mvalues\u001b[0m\u001b[1;33m.\u001b[0m\u001b[1;33m\u001b[0m\u001b[1;33m\u001b[0m\u001b[0m\n\u001b[0;32m    237\u001b[0m         \"\"\"\n\u001b[1;32m--> 238\u001b[1;33m         \u001b[1;32mreturn\u001b[0m \u001b[0mself\u001b[0m\u001b[1;33m.\u001b[0m\u001b[0m_decision_function\u001b[0m\u001b[1;33m(\u001b[0m\u001b[0mX\u001b[0m\u001b[1;33m)\u001b[0m\u001b[1;33m\u001b[0m\u001b[1;33m\u001b[0m\u001b[0m\n\u001b[0m\u001b[0;32m    239\u001b[0m \u001b[1;33m\u001b[0m\u001b[0m\n\u001b[0;32m    240\u001b[0m     \u001b[0m_preprocess_data\u001b[0m \u001b[1;33m=\u001b[0m \u001b[0mstaticmethod\u001b[0m\u001b[1;33m(\u001b[0m\u001b[0m_preprocess_data\u001b[0m\u001b[1;33m)\u001b[0m\u001b[1;33m\u001b[0m\u001b[1;33m\u001b[0m\u001b[0m\n",
      "\u001b[1;32mE:\\Python-Notebooks\\Anaconda3\\lib\\site-packages\\sklearn\\linear_model\\_base.py\u001b[0m in \u001b[0;36m_decision_function\u001b[1;34m(self, X)\u001b[0m\n\u001b[0;32m    219\u001b[0m \u001b[1;33m\u001b[0m\u001b[0m\n\u001b[0;32m    220\u001b[0m         \u001b[0mX\u001b[0m \u001b[1;33m=\u001b[0m \u001b[0mcheck_array\u001b[0m\u001b[1;33m(\u001b[0m\u001b[0mX\u001b[0m\u001b[1;33m,\u001b[0m \u001b[0maccept_sparse\u001b[0m\u001b[1;33m=\u001b[0m\u001b[1;33m[\u001b[0m\u001b[1;34m'csr'\u001b[0m\u001b[1;33m,\u001b[0m \u001b[1;34m'csc'\u001b[0m\u001b[1;33m,\u001b[0m \u001b[1;34m'coo'\u001b[0m\u001b[1;33m]\u001b[0m\u001b[1;33m)\u001b[0m\u001b[1;33m\u001b[0m\u001b[1;33m\u001b[0m\u001b[0m\n\u001b[1;32m--> 221\u001b[1;33m         return safe_sparse_dot(X, self.coef_.T,\n\u001b[0m\u001b[0;32m    222\u001b[0m                                dense_output=True) + self.intercept_\n\u001b[0;32m    223\u001b[0m \u001b[1;33m\u001b[0m\u001b[0m\n",
      "\u001b[1;32mE:\\Python-Notebooks\\Anaconda3\\lib\\site-packages\\sklearn\\utils\\validation.py\u001b[0m in \u001b[0;36minner_f\u001b[1;34m(*args, **kwargs)\u001b[0m\n\u001b[0;32m     61\u001b[0m             \u001b[0mextra_args\u001b[0m \u001b[1;33m=\u001b[0m \u001b[0mlen\u001b[0m\u001b[1;33m(\u001b[0m\u001b[0margs\u001b[0m\u001b[1;33m)\u001b[0m \u001b[1;33m-\u001b[0m \u001b[0mlen\u001b[0m\u001b[1;33m(\u001b[0m\u001b[0mall_args\u001b[0m\u001b[1;33m)\u001b[0m\u001b[1;33m\u001b[0m\u001b[1;33m\u001b[0m\u001b[0m\n\u001b[0;32m     62\u001b[0m             \u001b[1;32mif\u001b[0m \u001b[0mextra_args\u001b[0m \u001b[1;33m<=\u001b[0m \u001b[1;36m0\u001b[0m\u001b[1;33m:\u001b[0m\u001b[1;33m\u001b[0m\u001b[1;33m\u001b[0m\u001b[0m\n\u001b[1;32m---> 63\u001b[1;33m                 \u001b[1;32mreturn\u001b[0m \u001b[0mf\u001b[0m\u001b[1;33m(\u001b[0m\u001b[1;33m*\u001b[0m\u001b[0margs\u001b[0m\u001b[1;33m,\u001b[0m \u001b[1;33m**\u001b[0m\u001b[0mkwargs\u001b[0m\u001b[1;33m)\u001b[0m\u001b[1;33m\u001b[0m\u001b[1;33m\u001b[0m\u001b[0m\n\u001b[0m\u001b[0;32m     64\u001b[0m \u001b[1;33m\u001b[0m\u001b[0m\n\u001b[0;32m     65\u001b[0m             \u001b[1;31m# extra_args > 0\u001b[0m\u001b[1;33m\u001b[0m\u001b[1;33m\u001b[0m\u001b[1;33m\u001b[0m\u001b[0m\n",
      "\u001b[1;32mE:\\Python-Notebooks\\Anaconda3\\lib\\site-packages\\sklearn\\utils\\extmath.py\u001b[0m in \u001b[0;36msafe_sparse_dot\u001b[1;34m(a, b, dense_output)\u001b[0m\n\u001b[0;32m    150\u001b[0m             \u001b[0mret\u001b[0m \u001b[1;33m=\u001b[0m \u001b[0mnp\u001b[0m\u001b[1;33m.\u001b[0m\u001b[0mdot\u001b[0m\u001b[1;33m(\u001b[0m\u001b[0ma\u001b[0m\u001b[1;33m,\u001b[0m \u001b[0mb\u001b[0m\u001b[1;33m)\u001b[0m\u001b[1;33m\u001b[0m\u001b[1;33m\u001b[0m\u001b[0m\n\u001b[0;32m    151\u001b[0m     \u001b[1;32melse\u001b[0m\u001b[1;33m:\u001b[0m\u001b[1;33m\u001b[0m\u001b[1;33m\u001b[0m\u001b[0m\n\u001b[1;32m--> 152\u001b[1;33m         \u001b[0mret\u001b[0m \u001b[1;33m=\u001b[0m \u001b[0ma\u001b[0m \u001b[1;33m@\u001b[0m \u001b[0mb\u001b[0m\u001b[1;33m\u001b[0m\u001b[1;33m\u001b[0m\u001b[0m\n\u001b[0m\u001b[0;32m    153\u001b[0m \u001b[1;33m\u001b[0m\u001b[0m\n\u001b[0;32m    154\u001b[0m     if (sparse.issparse(a) and sparse.issparse(b)\n",
      "\u001b[1;31mValueError\u001b[0m: matmul: Input operand 1 has a mismatch in its core dimension 0, with gufunc signature (n?,k),(k,m?)->(n?,m?) (size 8 is different from 6)"
     ]
    }
   ],
   "source": [
    "clf2 = LinearRegression()\n",
    "x = np.array(new_df.drop(['Total renewable energy generation (kW)', 'Community classification', \n",
    "                             'Indigenous category'], 1))\n",
    "y = np.array(new_df['Total renewable energy generation (kW)'])\n",
    "x_train, x_test, y_train, y_test = model_selection.train_test_split(x,y, test_size=0.20)\n",
    "clf2.fit(x_train, y_train)\n",
    "accuracy = clf.score(x_test, y_test)"
   ]
  },
  {
   "cell_type": "code",
   "execution_count": 48,
   "id": "52c79a09",
   "metadata": {},
   "outputs": [
    {
     "data": {
      "text/html": [
       "<div>\n",
       "<style scoped>\n",
       "    .dataframe tbody tr th:only-of-type {\n",
       "        vertical-align: middle;\n",
       "    }\n",
       "\n",
       "    .dataframe tbody tr th {\n",
       "        vertical-align: top;\n",
       "    }\n",
       "\n",
       "    .dataframe thead th {\n",
       "        text-align: right;\n",
       "    }\n",
       "</style>\n",
       "<table border=\"1\" class=\"dataframe\">\n",
       "  <thead>\n",
       "    <tr style=\"text-align: right;\">\n",
       "      <th></th>\n",
       "      <th>Province/Territory</th>\n",
       "      <th>Community record status</th>\n",
       "      <th>Community type</th>\n",
       "      <th>Community classification</th>\n",
       "      <th>Indigenous category</th>\n",
       "      <th>Is there year-round road access to this community?</th>\n",
       "      <th>Population</th>\n",
       "      <th>Main power source</th>\n",
       "      <th>Total renewable energy generation (kW)</th>\n",
       "    </tr>\n",
       "  </thead>\n",
       "  <tbody>\n",
       "    <tr>\n",
       "      <th>0</th>\n",
       "      <td>9</td>\n",
       "      <td>1</td>\n",
       "      <td>0</td>\n",
       "      <td>0</td>\n",
       "      <td>0</td>\n",
       "      <td>0</td>\n",
       "      <td>12475.0</td>\n",
       "      <td>2</td>\n",
       "      <td>0.0</td>\n",
       "    </tr>\n",
       "    <tr>\n",
       "      <th>1</th>\n",
       "      <td>1</td>\n",
       "      <td>1</td>\n",
       "      <td>0</td>\n",
       "      <td>0</td>\n",
       "      <td>0</td>\n",
       "      <td>0</td>\n",
       "      <td>203.0</td>\n",
       "      <td>1</td>\n",
       "      <td>10000.0</td>\n",
       "    </tr>\n",
       "    <tr>\n",
       "      <th>2</th>\n",
       "      <td>7</td>\n",
       "      <td>2</td>\n",
       "      <td>0</td>\n",
       "      <td>0</td>\n",
       "      <td>0</td>\n",
       "      <td>1</td>\n",
       "      <td>0.0</td>\n",
       "      <td>2</td>\n",
       "      <td>0.0</td>\n",
       "    </tr>\n",
       "    <tr>\n",
       "      <th>3</th>\n",
       "      <td>1</td>\n",
       "      <td>1</td>\n",
       "      <td>0</td>\n",
       "      <td>0</td>\n",
       "      <td>0</td>\n",
       "      <td>0</td>\n",
       "      <td>1019.0</td>\n",
       "      <td>1</td>\n",
       "      <td>0.0</td>\n",
       "    </tr>\n",
       "    <tr>\n",
       "      <th>4</th>\n",
       "      <td>1</td>\n",
       "      <td>1</td>\n",
       "      <td>0</td>\n",
       "      <td>0</td>\n",
       "      <td>0</td>\n",
       "      <td>0</td>\n",
       "      <td>0.0</td>\n",
       "      <td>1</td>\n",
       "      <td>0.0</td>\n",
       "    </tr>\n",
       "    <tr>\n",
       "      <th>5</th>\n",
       "      <td>1</td>\n",
       "      <td>1</td>\n",
       "      <td>0</td>\n",
       "      <td>0</td>\n",
       "      <td>0</td>\n",
       "      <td>0</td>\n",
       "      <td>50.0</td>\n",
       "      <td>1</td>\n",
       "      <td>0.0</td>\n",
       "    </tr>\n",
       "    <tr>\n",
       "      <th>6</th>\n",
       "      <td>1</td>\n",
       "      <td>1</td>\n",
       "      <td>0</td>\n",
       "      <td>0</td>\n",
       "      <td>0</td>\n",
       "      <td>1</td>\n",
       "      <td>807.0</td>\n",
       "      <td>1</td>\n",
       "      <td>0.0</td>\n",
       "    </tr>\n",
       "    <tr>\n",
       "      <th>7</th>\n",
       "      <td>1</td>\n",
       "      <td>1</td>\n",
       "      <td>0</td>\n",
       "      <td>0</td>\n",
       "      <td>0</td>\n",
       "      <td>0</td>\n",
       "      <td>0.0</td>\n",
       "      <td>1</td>\n",
       "      <td>0.0</td>\n",
       "    </tr>\n",
       "    <tr>\n",
       "      <th>8</th>\n",
       "      <td>1</td>\n",
       "      <td>1</td>\n",
       "      <td>0</td>\n",
       "      <td>0</td>\n",
       "      <td>0</td>\n",
       "      <td>1</td>\n",
       "      <td>256.0</td>\n",
       "      <td>1</td>\n",
       "      <td>0.0</td>\n",
       "    </tr>\n",
       "    <tr>\n",
       "      <th>9</th>\n",
       "      <td>1</td>\n",
       "      <td>1</td>\n",
       "      <td>0</td>\n",
       "      <td>0</td>\n",
       "      <td>0</td>\n",
       "      <td>0</td>\n",
       "      <td>793.0</td>\n",
       "      <td>2</td>\n",
       "      <td>0.0</td>\n",
       "    </tr>\n",
       "  </tbody>\n",
       "</table>\n",
       "</div>"
      ],
      "text/plain": [
       "   Province/Territory  Community record status  Community type  \\\n",
       "0                   9                        1               0   \n",
       "1                   1                        1               0   \n",
       "2                   7                        2               0   \n",
       "3                   1                        1               0   \n",
       "4                   1                        1               0   \n",
       "5                   1                        1               0   \n",
       "6                   1                        1               0   \n",
       "7                   1                        1               0   \n",
       "8                   1                        1               0   \n",
       "9                   1                        1               0   \n",
       "\n",
       "   Community classification  Indigenous category  \\\n",
       "0                         0                    0   \n",
       "1                         0                    0   \n",
       "2                         0                    0   \n",
       "3                         0                    0   \n",
       "4                         0                    0   \n",
       "5                         0                    0   \n",
       "6                         0                    0   \n",
       "7                         0                    0   \n",
       "8                         0                    0   \n",
       "9                         0                    0   \n",
       "\n",
       "   Is there year-round road access to this community?  Population  \\\n",
       "0                                                  0      12475.0   \n",
       "1                                                  0        203.0   \n",
       "2                                                  1          0.0   \n",
       "3                                                  0       1019.0   \n",
       "4                                                  0          0.0   \n",
       "5                                                  0         50.0   \n",
       "6                                                  1        807.0   \n",
       "7                                                  0          0.0   \n",
       "8                                                  1        256.0   \n",
       "9                                                  0        793.0   \n",
       "\n",
       "   Main power source  Total renewable energy generation (kW)  \n",
       "0                  2                                     0.0  \n",
       "1                  1                                 10000.0  \n",
       "2                  2                                     0.0  \n",
       "3                  1                                     0.0  \n",
       "4                  1                                     0.0  \n",
       "5                  1                                     0.0  \n",
       "6                  1                                     0.0  \n",
       "7                  1                                     0.0  \n",
       "8                  1                                     0.0  \n",
       "9                  2                                     0.0  "
      ]
     },
     "execution_count": 48,
     "metadata": {},
     "output_type": "execute_result"
    }
   ],
   "source": [
    "mock_df = new_df.copy()\n",
    "for i in range(len(mock_df)):\n",
    "    #mock_df[mock_df['Community classification'] != 0, 'Community classification'] = 0\n",
    "    #mock_df[mock_df['Indigenous category'] != 0, 'Indigenous category'] = 0\n",
    "    mock_df.at[i,'Community classification'] = 0\n",
    "    mock_df.at[i, 'Indigenous category'] = 0\n",
    "mock_df.head(10)"
   ]
  },
  {
   "cell_type": "code",
   "execution_count": 54,
   "id": "7c38331d",
   "metadata": {},
   "outputs": [
    {
     "data": {
      "image/png": "[encoded data removed]",
      "text/plain": [
       "<Figure size 432x288 with 1 Axes>"
      ]
     },
     "metadata": {},
     "output_type": "display_data"
    }
   ],
   "source": [
    "x = range(0,276)\n",
    "plt.plot(x,\n",
    "         clf.predict(new_df.drop(['Total renewable energy generation (kW)'], 1).loc[x]))\n",
    "\n",
    "#plt.plot(x, clf2.predict(new_df.drop(['Total renewable energy generation (kW)', 'Community classification', \n",
    "                            # 'Indigenous category'], 1).loc[x]), 'g')\n",
    "\n",
    "plt.plot(x, clf.predict(mock_df.drop(['Total renewable energy generation (kW)'], 1).loc[x]), 'b')\n",
    "\n",
    "plt.xlabel('index')\n",
    "plt.ylabel('Total renewable energy generation (kW)')\n",
    "plt.show()"
   ]
  },
  {
   "cell_type": "code",
   "execution_count": 31,
   "id": "f826fb3e",
   "metadata": {},
   "outputs": [
    {
     "data": {
      "text/html": [
       "<div>\n",
       "<style scoped>\n",
       "    .dataframe tbody tr th:only-of-type {\n",
       "        vertical-align: middle;\n",
       "    }\n",
       "\n",
       "    .dataframe tbody tr th {\n",
       "        vertical-align: top;\n",
       "    }\n",
       "\n",
       "    .dataframe thead th {\n",
       "        text-align: right;\n",
       "    }\n",
       "</style>\n",
       "<table border=\"1\" class=\"dataframe\">\n",
       "  <thead>\n",
       "    <tr style=\"text-align: right;\">\n",
       "      <th></th>\n",
       "      <th>Province/Territory</th>\n",
       "      <th>Community record status</th>\n",
       "      <th>Community type</th>\n",
       "      <th>Community classification</th>\n",
       "      <th>Indigenous category</th>\n",
       "      <th>Is there year-round road access to this community?</th>\n",
       "      <th>Population</th>\n",
       "      <th>Main power source</th>\n",
       "      <th>Total renewable energy generation (kW)</th>\n",
       "    </tr>\n",
       "  </thead>\n",
       "  <tbody>\n",
       "    <tr>\n",
       "      <th>0</th>\n",
       "      <td>5</td>\n",
       "      <td>1</td>\n",
       "      <td>1</td>\n",
       "      <td>1</td>\n",
       "      <td>0</td>\n",
       "      <td>0</td>\n",
       "      <td>12475.0</td>\n",
       "      <td>2</td>\n",
       "      <td>0.0</td>\n",
       "    </tr>\n",
       "    <tr>\n",
       "      <th>1</th>\n",
       "      <td>6</td>\n",
       "      <td>1</td>\n",
       "      <td>1</td>\n",
       "      <td>1</td>\n",
       "      <td>0</td>\n",
       "      <td>0</td>\n",
       "      <td>203.0</td>\n",
       "      <td>1</td>\n",
       "      <td>10000.0</td>\n",
       "    </tr>\n",
       "    <tr>\n",
       "      <th>2</th>\n",
       "      <td>0</td>\n",
       "      <td>2</td>\n",
       "      <td>1</td>\n",
       "      <td>0</td>\n",
       "      <td>3</td>\n",
       "      <td>1</td>\n",
       "      <td>0.0</td>\n",
       "      <td>2</td>\n",
       "      <td>0.0</td>\n",
       "    </tr>\n",
       "    <tr>\n",
       "      <th>3</th>\n",
       "      <td>6</td>\n",
       "      <td>1</td>\n",
       "      <td>1</td>\n",
       "      <td>0</td>\n",
       "      <td>3</td>\n",
       "      <td>0</td>\n",
       "      <td>1019.0</td>\n",
       "      <td>1</td>\n",
       "      <td>0.0</td>\n",
       "    </tr>\n",
       "    <tr>\n",
       "      <th>4</th>\n",
       "      <td>6</td>\n",
       "      <td>1</td>\n",
       "      <td>1</td>\n",
       "      <td>0</td>\n",
       "      <td>3</td>\n",
       "      <td>0</td>\n",
       "      <td>0.0</td>\n",
       "      <td>1</td>\n",
       "      <td>0.0</td>\n",
       "    </tr>\n",
       "    <tr>\n",
       "      <th>...</th>\n",
       "      <td>...</td>\n",
       "      <td>...</td>\n",
       "      <td>...</td>\n",
       "      <td>...</td>\n",
       "      <td>...</td>\n",
       "      <td>...</td>\n",
       "      <td>...</td>\n",
       "      <td>...</td>\n",
       "      <td>...</td>\n",
       "    </tr>\n",
       "    <tr>\n",
       "      <th>96</th>\n",
       "      <td>0</td>\n",
       "      <td>2</td>\n",
       "      <td>1</td>\n",
       "      <td>0</td>\n",
       "      <td>3</td>\n",
       "      <td>1</td>\n",
       "      <td>124.0</td>\n",
       "      <td>2</td>\n",
       "      <td>0.0</td>\n",
       "    </tr>\n",
       "    <tr>\n",
       "      <th>97</th>\n",
       "      <td>0</td>\n",
       "      <td>2</td>\n",
       "      <td>1</td>\n",
       "      <td>1</td>\n",
       "      <td>0</td>\n",
       "      <td>1</td>\n",
       "      <td>25085.0</td>\n",
       "      <td>2</td>\n",
       "      <td>0.0</td>\n",
       "    </tr>\n",
       "    <tr>\n",
       "      <th>98</th>\n",
       "      <td>7</td>\n",
       "      <td>0</td>\n",
       "      <td>1</td>\n",
       "      <td>0</td>\n",
       "      <td>3</td>\n",
       "      <td>1</td>\n",
       "      <td>38.0</td>\n",
       "      <td>2</td>\n",
       "      <td>0.0</td>\n",
       "    </tr>\n",
       "    <tr>\n",
       "      <th>99</th>\n",
       "      <td>7</td>\n",
       "      <td>0</td>\n",
       "      <td>1</td>\n",
       "      <td>1</td>\n",
       "      <td>0</td>\n",
       "      <td>0</td>\n",
       "      <td>853.0</td>\n",
       "      <td>2</td>\n",
       "      <td>0.0</td>\n",
       "    </tr>\n",
       "    <tr>\n",
       "      <th>100</th>\n",
       "      <td>7</td>\n",
       "      <td>0</td>\n",
       "      <td>0</td>\n",
       "      <td>1</td>\n",
       "      <td>0</td>\n",
       "      <td>1</td>\n",
       "      <td>1.0</td>\n",
       "      <td>2</td>\n",
       "      <td>0.0</td>\n",
       "    </tr>\n",
       "  </tbody>\n",
       "</table>\n",
       "<p>101 rows × 9 columns</p>\n",
       "</div>"
      ],
      "text/plain": [
       "     Province/Territory  Community record status  Community type  \\\n",
       "0                     5                        1               1   \n",
       "1                     6                        1               1   \n",
       "2                     0                        2               1   \n",
       "3                     6                        1               1   \n",
       "4                     6                        1               1   \n",
       "..                  ...                      ...             ...   \n",
       "96                    0                        2               1   \n",
       "97                    0                        2               1   \n",
       "98                    7                        0               1   \n",
       "99                    7                        0               1   \n",
       "100                   7                        0               0   \n",
       "\n",
       "     Community classification  Indigenous category  \\\n",
       "0                           1                    0   \n",
       "1                           1                    0   \n",
       "2                           0                    3   \n",
       "3                           0                    3   \n",
       "4                           0                    3   \n",
       "..                        ...                  ...   \n",
       "96                          0                    3   \n",
       "97                          1                    0   \n",
       "98                          0                    3   \n",
       "99                          1                    0   \n",
       "100                         1                    0   \n",
       "\n",
       "     Is there year-round road access to this community?  Population  \\\n",
       "0                                                    0      12475.0   \n",
       "1                                                    0        203.0   \n",
       "2                                                    1          0.0   \n",
       "3                                                    0       1019.0   \n",
       "4                                                    0          0.0   \n",
       "..                                                 ...          ...   \n",
       "96                                                   1        124.0   \n",
       "97                                                   1      25085.0   \n",
       "98                                                   1         38.0   \n",
       "99                                                   0        853.0   \n",
       "100                                                  1          1.0   \n",
       "\n",
       "     Main power source  Total renewable energy generation (kW)  \n",
       "0                    2                                     0.0  \n",
       "1                    1                                 10000.0  \n",
       "2                    2                                     0.0  \n",
       "3                    1                                     0.0  \n",
       "4                    1                                     0.0  \n",
       "..                 ...                                     ...  \n",
       "96                   2                                     0.0  \n",
       "97                   2                                     0.0  \n",
       "98                   2                                     0.0  \n",
       "99                   2                                     0.0  \n",
       "100                  2                                     0.0  \n",
       "\n",
       "[101 rows x 9 columns]"
      ]
     },
     "execution_count": 31,
     "metadata": {},
     "output_type": "execute_result"
    }
   ],
   "source": [
    "new_df.head(101)"
   ]
  },
  {
   "cell_type": "code",
   "execution_count": 32,
   "id": "85838dad",
   "metadata": {},
   "outputs": [],
   "source": [
    "################################ mean shift"
   ]
  },
  {
   "cell_type": "code",
   "execution_count": 33,
   "id": "891011c6",
   "metadata": {},
   "outputs": [],
   "source": [
    "from sklearn.cluster import MeanShift"
   ]
  },
  {
   "cell_type": "code",
   "execution_count": 33,
   "id": "d674161e",
   "metadata": {},
   "outputs": [
    {
     "data": {
      "text/plain": [
       "MeanShift()"
      ]
     },
     "execution_count": 33,
     "metadata": {},
     "output_type": "execute_result"
    }
   ],
   "source": [
    "X = np.array(new_df)\n",
    "ms = MeanShift()\n",
    "ms.fit(X)"
   ]
  },
  {
   "cell_type": "code",
   "execution_count": 35,
   "id": "41d51053",
   "metadata": {},
   "outputs": [
    {
     "name": "stdout",
     "output_type": "stream",
     "text": [
      "11\n",
      "[[4.04182510e+00 3.46007605e-01 9.42965779e-01 3.68821293e-01\n",
      "  1.03802281e+00 3.72623574e-01 4.59258555e+02 1.88593156e+00\n",
      "  9.30660837e+00]\n",
      " [4.00000000e+00 5.00000000e-01 5.00000000e-01 1.00000000e+00\n",
      "  0.00000000e+00 0.00000000e+00 3.01500000e+02 1.50000000e+00\n",
      "  9.20480000e+03]\n",
      " [3.50000000e+00 5.00000000e-01 1.00000000e+00 5.00000000e-01\n",
      "  1.50000000e+00 0.00000000e+00 1.01075000e+04 2.00000000e+00\n",
      "  0.00000000e+00]\n",
      " [3.00000000e+00 5.00000000e-01 1.00000000e+00 5.00000000e-01\n",
      "  5.00000000e-01 5.00000000e-01 4.25000000e+02 1.00000000e+00\n",
      "  2.47895000e+04]\n",
      " [9.00000000e+00 0.00000000e+00 1.00000000e+00 1.00000000e+00\n",
      "  0.00000000e+00 1.00000000e+00 4.59000000e+03 2.00000000e+00\n",
      "  8.51355000e+05]\n",
      " [7.00000000e+00 1.00000000e+00 1.00000000e+00 1.00000000e+00\n",
      "  0.00000000e+00 0.00000000e+00 4.28000000e+02 1.00000000e+00\n",
      "  7.52740000e+04]\n",
      " [7.00000000e+00 1.00000000e+00 1.00000000e+00 1.00000000e+00\n",
      "  0.00000000e+00 0.00000000e+00 1.55000000e+02 1.00000000e+00\n",
      "  4.50000000e+04]\n",
      " [6.00000000e+00 2.00000000e+00 1.00000000e+00 1.00000000e+00\n",
      "  0.00000000e+00 1.00000000e+00 1.95690000e+04 2.00000000e+00\n",
      "  1.13275000e+05]\n",
      " [6.00000000e+00 2.00000000e+00 1.00000000e+00 0.00000000e+00\n",
      "  1.00000000e+00 1.00000000e+00 3.52800000e+03 2.00000000e+00\n",
      "  6.50110000e+04]\n",
      " [6.00000000e+00 0.00000000e+00 0.00000000e+00 1.00000000e+00\n",
      "  0.00000000e+00 0.00000000e+00 3.30000000e+02 2.00000000e+00\n",
      "  1.63809010e+04]\n",
      " [3.00000000e+00 2.00000000e+00 1.00000000e+00 1.00000000e+00\n",
      "  0.00000000e+00 1.00000000e+00 2.50850000e+04 2.00000000e+00\n",
      "  0.00000000e+00]]\n"
     ]
    }
   ],
   "source": [
    "print(len(ms.cluster_centers_))\n",
    "print(ms.cluster_centers_)\n",
    "labels = ms.labels_"
   ]
  },
  {
   "cell_type": "code",
   "execution_count": 36,
   "id": "4af54199",
   "metadata": {},
   "outputs": [
    {
     "name": "stdout",
     "output_type": "stream",
     "text": [
      "{0: 9.306608365019011, 1: 9204.8, 2: 0.0, 3: 24789.5, 4: 851355.0, 5: 75274.0, 6: 45000.0, 7: 113275.0, 8: 65011.0, 9: 16380.901, 10: 0.0}\n"
     ]
    }
   ],
   "source": [
    "num_clusters = len(ms.cluster_centers_)\n",
    "renewable_dict = {}\n",
    "\n",
    "for i in range(len(X)):\n",
    "    label = labels[i]\n",
    "    \n",
    "    if label not in renewable_dict:\n",
    "        #print('here')\n",
    "        renewable_dict[label] = []\n",
    "    \n",
    "    #print(renewable_dict[label])\n",
    "    renewable_dict[label].append(new_df.loc[i, 'Total renewable energy generation (kW)'])\n",
    "\n",
    "final_dict = {}\n",
    "    \n",
    "for i in range(num_clusters):\n",
    "    length = len(renewable_dict[i])\n",
    "    sum = 0\n",
    "    \n",
    "    for el in renewable_dict[i]:\n",
    "        sum += el\n",
    "    final_dict[i] = (sum/length)\n",
    "\n",
    "print(final_dict)"
   ]
  },
  {
   "cell_type": "code",
   "execution_count": 37,
   "id": "ff6a3219",
   "metadata": {},
   "outputs": [
    {
     "name": "stdout",
     "output_type": "stream",
     "text": [
      "4.0418250950570345\n",
      "0.34600760456273766\n",
      "0.9429657794676806\n",
      "0.3688212927756654\n",
      "1.038022813688213\n",
      "0.3726235741444867\n",
      "459.2585551330798\n",
      "1.8859315589353611\n",
      "9.306608365019011\n",
      "[0]\n"
     ]
    }
   ],
   "source": [
    "#first cluster\n",
    "for i in range(len(ms.cluster_centers_[0])):\n",
    "    print(ms.cluster_centers_[0][i])\n",
    "    \n",
    "#province: Manitoba\n",
    "#grid: single community off grid\n",
    "#type: settlement\n",
    "#classification: indigenous\n",
    "#category: first nation\n",
    "#road acces: no\n",
    "#population: 459\n",
    "#main power: non-renewable\n",
    "\n",
    "#9 kw renewable \n",
    "\n",
    "print(ms.predict(ms.cluster_centers_[0].reshape(1,-1)))"
   ]
  },
  {
   "cell_type": "code",
   "execution_count": 41,
   "id": "90fe9dd1",
   "metadata": {},
   "outputs": [
    {
     "name": "stdout",
     "output_type": "stream",
     "text": [
      "4.0\n",
      "0.5\n",
      "0.5\n",
      "1.0\n",
      "0.0\n",
      "0.0\n",
      "301.5\n",
      "1.5\n",
      "9204.8\n",
      "[1]\n"
     ]
    }
   ],
   "source": [
    "#second cluster\n",
    "for i in range(len(ms.cluster_centers_[1])):\n",
    "    print(ms.cluster_centers_[1][i])   \n",
    "    \n",
    "#province: Manitoba\n",
    "#grid: ebtween single community off grid and multi community local microgrid\n",
    "#type: between commercial and settlement\n",
    "#classification: non indigenous\n",
    "#category: non\n",
    "#road access: no\n",
    "#population: 302\n",
    "#main power: midway renewable and non-renewable\n",
    "\n",
    "#2955 kW renewable\n",
    "\n",
    "print(ms.predict(ms.cluster_centers_[1].reshape(1,-1)))"
   ]
  },
  {
   "cell_type": "code",
   "execution_count": 42,
   "id": "8ffe9464",
   "metadata": {},
   "outputs": [
    {
     "name": "stdout",
     "output_type": "stream",
     "text": [
      "3.5\n",
      "0.5\n",
      "1.0\n",
      "0.5\n",
      "1.5\n",
      "0.0\n",
      "10107.5\n",
      "2.0\n",
      "0.0\n"
     ]
    }
   ],
   "source": [
    "#third cluster\n",
    "for i in range(len(ms.cluster_centers_[2])):\n",
    "    print(ms.cluster_centers_[2][i])   \n",
    "    \n",
    "#province: Manitoba\n",
    "#grid: single community grid\n",
    "#type: settlement\n",
    "#classification: indigenous\n",
    "#category: first nation or indigenous collective\n",
    "#road access: no\n",
    "#population: 10108\n",
    "#main power: non-renewable\n",
    "\n",
    "#0 kW renewable"
   ]
  },
  {
   "cell_type": "code",
   "execution_count": 43,
   "id": "7f93a027",
   "metadata": {},
   "outputs": [
    {
     "name": "stdout",
     "output_type": "stream",
     "text": [
      "3.0\n",
      "0.5\n",
      "1.0\n",
      "0.5\n",
      "0.5\n",
      "0.5\n",
      "425.0\n",
      "1.0\n",
      "24789.5\n"
     ]
    }
   ],
   "source": [
    "#fourth cluster\n",
    "for i in range(len(ms.cluster_centers_[3])):\n",
    "    print(ms.cluster_centers_[3][i])   \n",
    "    \n",
    "#province: Yukon Territories\n",
    "#grid: single community off grid\n",
    "#type: settlement\n",
    "#classification: between indigenous and non-indigenous\n",
    "#category: between non and first nation\n",
    "#road access: no\n",
    "#population: 425\n",
    "#main power: renewable \n",
    "\n",
    "#247896 kW renewable"
   ]
  },
  {
   "cell_type": "code",
   "execution_count": 44,
   "id": "b460561a",
   "metadata": {},
   "outputs": [
    {
     "name": "stdout",
     "output_type": "stream",
     "text": [
      "9.0\n",
      "0.0\n",
      "1.0\n",
      "1.0\n",
      "0.0\n",
      "1.0\n",
      "4590.0\n",
      "2.0\n",
      "851355.0\n"
     ]
    }
   ],
   "source": [
    "#fifth cluster\n",
    "for i in range(len(ms.cluster_centers_[4])):\n",
    "    print(ms.cluster_centers_[4][i])   \n",
    "    \n",
    "#province: Alberta\n",
    "#grid: single community off\n",
    "#type: settlement\n",
    "#classification: non-indigenous\n",
    "#category: non\n",
    "#road access: yes\n",
    "#population: 4590\n",
    "#main power: non renewable\n",
    "\n",
    "# 851355 kW renewable"
   ]
  },
  {
   "cell_type": "code",
   "execution_count": 45,
   "id": "067531fb",
   "metadata": {},
   "outputs": [
    {
     "name": "stdout",
     "output_type": "stream",
     "text": [
      "7.0\n",
      "1.0\n",
      "1.0\n",
      "1.0\n",
      "0.0\n",
      "0.0\n",
      "428.0\n",
      "1.0\n",
      "75274.0\n"
     ]
    }
   ],
   "source": [
    "#sixth cluster\n",
    "for i in range(len(ms.cluster_centers_[5])):\n",
    "    print(ms.cluster_centers_[5][i])   \n",
    "    \n",
    "#province: Qeuebec\n",
    "#grid: multi communiuty local microgrid\n",
    "#type: settlement\n",
    "#classification: non-indigenous\n",
    "#category: non\n",
    "#road access: no\n",
    "#population: 428\n",
    "#main power: renewable\n",
    "\n",
    "# 75274 kW renewable"
   ]
  },
  {
   "cell_type": "code",
   "execution_count": 46,
   "id": "816bb08c",
   "metadata": {},
   "outputs": [
    {
     "name": "stdout",
     "output_type": "stream",
     "text": [
      "7.0\n",
      "1.0\n",
      "1.0\n",
      "1.0\n",
      "0.0\n",
      "0.0\n",
      "155.0\n",
      "1.0\n",
      "45000.0\n"
     ]
    }
   ],
   "source": [
    "#seventh cluster\n",
    "for i in range(len(ms.cluster_centers_[6])):\n",
    "    print(ms.cluster_centers_[6][i])   \n",
    "    \n",
    "#province: quebec\n",
    "#grid: multi community record\n",
    "#type: settlement\n",
    "#classification: non-indigenous\n",
    "#category: non\n",
    "#road access: no\n",
    "#population: 155\n",
    "#main power: non renewable\n",
    "\n",
    "# 45000 kW renewable"
   ]
  },
  {
   "cell_type": "code",
   "execution_count": 47,
   "id": "c4c033c0",
   "metadata": {},
   "outputs": [
    {
     "name": "stdout",
     "output_type": "stream",
     "text": [
      "6.0\n",
      "2.0\n",
      "1.0\n",
      "1.0\n",
      "0.0\n",
      "1.0\n",
      "19569.0\n",
      "2.0\n",
      "113275.0\n"
     ]
    }
   ],
   "source": [
    "#eight cluster\n",
    "for i in range(len(ms.cluster_centers_[7])):\n",
    "    print(ms.cluster_centers_[7][i])\n",
    "    \n",
    "#province: Northwest territories\n",
    "#grid: Yukon NWT grid connected\n",
    "#type: settlement\n",
    "#classification: non-indigenous\n",
    "#category: non\n",
    "#road access: yes\n",
    "#population: 19569\n",
    "#main power: non renewable\n",
    "\n",
    "# 113275 kW renewable"
   ]
  },
  {
   "cell_type": "code",
   "execution_count": 48,
   "id": "8ad59ef6",
   "metadata": {},
   "outputs": [
    {
     "name": "stdout",
     "output_type": "stream",
     "text": [
      "6.0\n",
      "2.0\n",
      "1.0\n",
      "0.0\n",
      "1.0\n",
      "1.0\n",
      "3528.0\n",
      "2.0\n",
      "65011.0\n"
     ]
    }
   ],
   "source": [
    "#ninth cluster\n",
    "for i in range(len(ms.cluster_centers_[8])):\n",
    "    print(ms.cluster_centers_[8][i])\n",
    "\n",
    "#province: Northwest territories\n",
    "#grid: Yukon NWT grid connected\n",
    "#type: settlement\n",
    "#classification: indigenous\n",
    "#category: first nation\n",
    "#road access: yes\n",
    "#population: 3528\n",
    "#main power: non renewable\n",
    "\n",
    "# 65011 kW renewable"
   ]
  },
  {
   "cell_type": "code",
   "execution_count": 49,
   "id": "a454f50c",
   "metadata": {},
   "outputs": [
    {
     "name": "stdout",
     "output_type": "stream",
     "text": [
      "6.0\n",
      "0.0\n",
      "0.0\n",
      "1.0\n",
      "0.0\n",
      "0.0\n",
      "330.0\n",
      "2.0\n",
      "16380.901\n"
     ]
    }
   ],
   "source": [
    "#tenth cluster\n",
    "for i in range(len(ms.cluster_centers_[9])):\n",
    "    print(ms.cluster_centers_[9][i])\n",
    "\n",
    "#province: Northwest territories\n",
    "#grid: single community off grid\n",
    "#type: commercial\n",
    "#classification: non-indigenous\n",
    "#category: no\n",
    "#road access: no\n",
    "#population: 330\n",
    "#main power: non renewable\n",
    "\n",
    "# 16380 kW renewable"
   ]
  },
  {
   "cell_type": "code",
   "execution_count": 50,
   "id": "f2df4351",
   "metadata": {},
   "outputs": [
    {
     "name": "stdout",
     "output_type": "stream",
     "text": [
      "3.0\n",
      "2.0\n",
      "1.0\n",
      "1.0\n",
      "0.0\n",
      "1.0\n",
      "25085.0\n",
      "2.0\n",
      "0.0\n"
     ]
    }
   ],
   "source": [
    "#eleventh cluster\n",
    "for i in range(len(ms.cluster_centers_[10])):\n",
    "    print(ms.cluster_centers_[10][i])\n",
    "\n",
    "#province: yukon territories\n",
    "#grid: yukon grid connected\n",
    "#type: settlement\n",
    "#classification: non-indigenous\n",
    "#category: no\n",
    "#road access: yes\n",
    "#population: 25085\n",
    "#main power: non renewable\n",
    "\n",
    "# 0 kW renewable"
   ]
  },
  {
   "cell_type": "code",
   "execution_count": null,
   "id": "f22a8ab0",
   "metadata": {},
   "outputs": [],
   "source": []
  }
 ],
 "metadata": {
  "kernelspec": {
   "display_name": "Python 3",
   "language": "python",
   "name": "python3"
  },
  "language_info": {
   "codemirror_mode": {
    "name": "ipython",
    "version": 3
   },
   "file_extension": ".py",
   "mimetype": "text/x-python",
   "name": "python",
   "nbconvert_exporter": "python",
   "pygments_lexer": "ipython3",
   "version": "3.8.8"
  }
 },
 "nbformat": 4,
 "nbformat_minor": 5
}
