{
 "cells": [
  {
   "cell_type": "code",
   "execution_count": 49,
   "id": "51dd7533",
   "metadata": {},
   "outputs": [],
   "source": [
    "import matplotlib.pyplot as plt\n",
    "from matplotlib import style\n",
    "style.use('ggplot')\n",
    "import numpy as np\n",
    "import pandas as pd\n",
    "from sklearn.cluster import MeanShift\n",
    "from mpl_toolkits.mplot3d import Axes3D\n",
    "from sklearn.linear_model import LinearRegression\n",
    "from sklearn import model_selection"
   ]
  },
  {
   "cell_type": "code",
   "execution_count": 100,
   "id": "816e648c",
   "metadata": {},
   "outputs": [
    {
     "data": {
      "text/html": [
       "<div>\n",
       "<style scoped>\n",
       "    .dataframe tbody tr th:only-of-type {\n",
       "        vertical-align: middle;\n",
       "    }\n",
       "\n",
       "    .dataframe tbody tr th {\n",
       "        vertical-align: top;\n",
       "    }\n",
       "\n",
       "    .dataframe thead th {\n",
       "        text-align: right;\n",
       "    }\n",
       "</style>\n",
       "<table border=\"1\" class=\"dataframe\">\n",
       "  <thead>\n",
       "    <tr style=\"text-align: right;\">\n",
       "      <th></th>\n",
       "      <th>OBJECT ID</th>\n",
       "      <th>Community name</th>\n",
       "      <th>Alternative community name</th>\n",
       "      <th>Province/Territory</th>\n",
       "      <th>Community record status</th>\n",
       "      <th>Community type</th>\n",
       "      <th>Latitude (°)</th>\n",
       "      <th>Longitude (°)</th>\n",
       "      <th>Community classification</th>\n",
       "      <th>Indigenous category</th>\n",
       "      <th>...</th>\n",
       "      <th>Is this a fly-in community?</th>\n",
       "      <th>Population</th>\n",
       "      <th>Main power source</th>\n",
       "      <th>Name of service provider</th>\n",
       "      <th>Total fossil fuel generating capacity (kW)</th>\n",
       "      <th>Annual fossil fuel generation (MWh/yr)</th>\n",
       "      <th>Price of fuel at site</th>\n",
       "      <th>Units</th>\n",
       "      <th>Total renewable energy generation (kW)</th>\n",
       "      <th>Community energy plan</th>\n",
       "    </tr>\n",
       "  </thead>\n",
       "  <tbody>\n",
       "    <tr>\n",
       "      <th>0</th>\n",
       "      <td>1</td>\n",
       "      <td>Les Îles-de-la-Madeleine</td>\n",
       "      <td>Magdalen Islands</td>\n",
       "      <td>QC</td>\n",
       "      <td>Active &gt; Multi-community local microgrid</td>\n",
       "      <td>Settlement</td>\n",
       "      <td>47.383330</td>\n",
       "      <td>-61.866600</td>\n",
       "      <td>Non-Indigenous</td>\n",
       "      <td>NaN</td>\n",
       "      <td>...</td>\n",
       "      <td>No</td>\n",
       "      <td>12475.0</td>\n",
       "      <td>Heavy fuel oil</td>\n",
       "      <td>Hydro-Quebec</td>\n",
       "      <td>67044.0</td>\n",
       "      <td>181648.00</td>\n",
       "      <td>0.70</td>\n",
       "      <td>$/l</td>\n",
       "      <td>0.0</td>\n",
       "      <td>NaN</td>\n",
       "    </tr>\n",
       "    <tr>\n",
       "      <th>1</th>\n",
       "      <td>2</td>\n",
       "      <td>Ocean Falls</td>\n",
       "      <td>NaN</td>\n",
       "      <td>BC</td>\n",
       "      <td>Active &gt; Multi-community local microgrid</td>\n",
       "      <td>Settlement</td>\n",
       "      <td>52.350000</td>\n",
       "      <td>-127.700000</td>\n",
       "      <td>Non-Indigenous</td>\n",
       "      <td>NaN</td>\n",
       "      <td>...</td>\n",
       "      <td>No</td>\n",
       "      <td>203.0</td>\n",
       "      <td>Hydro</td>\n",
       "      <td>BC Hydro</td>\n",
       "      <td>NaN</td>\n",
       "      <td>NaN</td>\n",
       "      <td>NaN</td>\n",
       "      <td>NaN</td>\n",
       "      <td>10000.0</td>\n",
       "      <td>NaN</td>\n",
       "    </tr>\n",
       "    <tr>\n",
       "      <th>2</th>\n",
       "      <td>3</td>\n",
       "      <td>Whitehorse 8</td>\n",
       "      <td>NaN</td>\n",
       "      <td>YT</td>\n",
       "      <td>Active &gt; Grid connected: Yukon or NWT grid</td>\n",
       "      <td>Settlement</td>\n",
       "      <td>60.750000</td>\n",
       "      <td>-135.080000</td>\n",
       "      <td>Indigenous</td>\n",
       "      <td>First Nation</td>\n",
       "      <td>...</td>\n",
       "      <td>No</td>\n",
       "      <td>NaN</td>\n",
       "      <td>Prov./terr. grid</td>\n",
       "      <td>Yukon Energy Corp.</td>\n",
       "      <td>NaN</td>\n",
       "      <td>NaN</td>\n",
       "      <td>0.33</td>\n",
       "      <td>$/l</td>\n",
       "      <td>0.0</td>\n",
       "      <td>NaN</td>\n",
       "    </tr>\n",
       "    <tr>\n",
       "      <th>3</th>\n",
       "      <td>4</td>\n",
       "      <td>Bella Bella</td>\n",
       "      <td>Bella Bella 1</td>\n",
       "      <td>BC</td>\n",
       "      <td>Active &gt; Multi-community local microgrid</td>\n",
       "      <td>Settlement</td>\n",
       "      <td>52.160340</td>\n",
       "      <td>-128.145480</td>\n",
       "      <td>Indigenous</td>\n",
       "      <td>First Nation</td>\n",
       "      <td>...</td>\n",
       "      <td>No</td>\n",
       "      <td>1019.0</td>\n",
       "      <td>Hydro</td>\n",
       "      <td>BC Hydro</td>\n",
       "      <td>4900.0</td>\n",
       "      <td>982.87</td>\n",
       "      <td>NaN</td>\n",
       "      <td>NaN</td>\n",
       "      <td>0.0</td>\n",
       "      <td>NaN</td>\n",
       "    </tr>\n",
       "    <tr>\n",
       "      <th>4</th>\n",
       "      <td>5</td>\n",
       "      <td>Wagisla</td>\n",
       "      <td>NaN</td>\n",
       "      <td>BC</td>\n",
       "      <td>Active &gt; Multi-community local microgrid</td>\n",
       "      <td>Settlement</td>\n",
       "      <td>52.161667</td>\n",
       "      <td>-128.143611</td>\n",
       "      <td>Indigenous</td>\n",
       "      <td>First Nation</td>\n",
       "      <td>...</td>\n",
       "      <td>No</td>\n",
       "      <td>NaN</td>\n",
       "      <td>Hydro</td>\n",
       "      <td>BC Hydro</td>\n",
       "      <td>NaN</td>\n",
       "      <td>NaN</td>\n",
       "      <td>NaN</td>\n",
       "      <td>NaN</td>\n",
       "      <td>0.0</td>\n",
       "      <td>NaN</td>\n",
       "    </tr>\n",
       "  </tbody>\n",
       "</table>\n",
       "<p>5 rows × 21 columns</p>\n",
       "</div>"
      ],
      "text/plain": [
       "   OBJECT ID            Community name Alternative community name  \\\n",
       "0          1  Les Îles-de-la-Madeleine           Magdalen Islands   \n",
       "1          2               Ocean Falls                        NaN   \n",
       "2          3              Whitehorse 8                        NaN   \n",
       "3          4               Bella Bella              Bella Bella 1   \n",
       "4          5                   Wagisla                        NaN   \n",
       "\n",
       "  Province/Territory                     Community record status  \\\n",
       "0                 QC    Active > Multi-community local microgrid   \n",
       "1                 BC    Active > Multi-community local microgrid   \n",
       "2                 YT  Active > Grid connected: Yukon or NWT grid   \n",
       "3                 BC    Active > Multi-community local microgrid   \n",
       "4                 BC    Active > Multi-community local microgrid   \n",
       "\n",
       "  Community type  Latitude (°)  Longitude (°) Community classification  \\\n",
       "0     Settlement     47.383330     -61.866600           Non-Indigenous   \n",
       "1     Settlement     52.350000    -127.700000           Non-Indigenous   \n",
       "2     Settlement     60.750000    -135.080000               Indigenous   \n",
       "3     Settlement     52.160340    -128.145480               Indigenous   \n",
       "4     Settlement     52.161667    -128.143611               Indigenous   \n",
       "\n",
       "  Indigenous category  ... Is this a fly-in community? Population  \\\n",
       "0                 NaN  ...                          No    12475.0   \n",
       "1                 NaN  ...                          No      203.0   \n",
       "2        First Nation  ...                          No        NaN   \n",
       "3        First Nation  ...                          No     1019.0   \n",
       "4        First Nation  ...                          No        NaN   \n",
       "\n",
       "   Main power source Name of service provider  \\\n",
       "0     Heavy fuel oil             Hydro-Quebec   \n",
       "1              Hydro                 BC Hydro   \n",
       "2   Prov./terr. grid       Yukon Energy Corp.   \n",
       "3              Hydro                 BC Hydro   \n",
       "4              Hydro                 BC Hydro   \n",
       "\n",
       "  Total fossil fuel generating capacity (kW)  \\\n",
       "0                                    67044.0   \n",
       "1                                        NaN   \n",
       "2                                        NaN   \n",
       "3                                     4900.0   \n",
       "4                                        NaN   \n",
       "\n",
       "   Annual fossil fuel generation (MWh/yr)  Price of fuel at site  Units  \\\n",
       "0                               181648.00                   0.70    $/l   \n",
       "1                                     NaN                    NaN    NaN   \n",
       "2                                     NaN                   0.33    $/l   \n",
       "3                                  982.87                    NaN    NaN   \n",
       "4                                     NaN                    NaN    NaN   \n",
       "\n",
       "  Total renewable energy generation (kW)  Community energy plan  \n",
       "0                                    0.0                    NaN  \n",
       "1                                10000.0                    NaN  \n",
       "2                                    0.0                    NaN  \n",
       "3                                    0.0                    NaN  \n",
       "4                                    0.0                    NaN  \n",
       "\n",
       "[5 rows x 21 columns]"
      ]
     },
     "execution_count": 100,
     "metadata": {},
     "output_type": "execute_result"
    }
   ],
   "source": [
    "df = pd.read_csv(r\"E:\\Python-Notebooks\\big_data_challenge\\datasets_bdc\\rced_en (1).csv\")\n",
    "df.replace('Non-indigenous', 'Non-Indigenous', inplace=True)\n",
    "df.head()"
   ]
  },
  {
   "cell_type": "code",
   "execution_count": 101,
   "id": "68223ce3",
   "metadata": {},
   "outputs": [
    {
     "data": {
      "text/html": [
       "<div>\n",
       "<style scoped>\n",
       "    .dataframe tbody tr th:only-of-type {\n",
       "        vertical-align: middle;\n",
       "    }\n",
       "\n",
       "    .dataframe tbody tr th {\n",
       "        vertical-align: top;\n",
       "    }\n",
       "\n",
       "    .dataframe thead th {\n",
       "        text-align: right;\n",
       "    }\n",
       "</style>\n",
       "<table border=\"1\" class=\"dataframe\">\n",
       "  <thead>\n",
       "    <tr style=\"text-align: right;\">\n",
       "      <th></th>\n",
       "      <th>Province/Territory</th>\n",
       "      <th>Community record status</th>\n",
       "      <th>Community type</th>\n",
       "      <th>Community classification</th>\n",
       "      <th>Indigenous category</th>\n",
       "      <th>Is there year-round road access to this community?</th>\n",
       "      <th>Population</th>\n",
       "      <th>Main power source</th>\n",
       "      <th>Total renewable energy generation (kW)</th>\n",
       "    </tr>\n",
       "  </thead>\n",
       "  <tbody>\n",
       "    <tr>\n",
       "      <th>0</th>\n",
       "      <td>QC</td>\n",
       "      <td>Active &gt; Multi-community local microgrid</td>\n",
       "      <td>Settlement</td>\n",
       "      <td>Non-Indigenous</td>\n",
       "      <td>NaN</td>\n",
       "      <td>No</td>\n",
       "      <td>12475.0</td>\n",
       "      <td>Heavy fuel oil</td>\n",
       "      <td>0.0</td>\n",
       "    </tr>\n",
       "    <tr>\n",
       "      <th>1</th>\n",
       "      <td>BC</td>\n",
       "      <td>Active &gt; Multi-community local microgrid</td>\n",
       "      <td>Settlement</td>\n",
       "      <td>Non-Indigenous</td>\n",
       "      <td>NaN</td>\n",
       "      <td>No</td>\n",
       "      <td>203.0</td>\n",
       "      <td>Hydro</td>\n",
       "      <td>10000.0</td>\n",
       "    </tr>\n",
       "    <tr>\n",
       "      <th>2</th>\n",
       "      <td>YT</td>\n",
       "      <td>Active &gt; Grid connected: Yukon or NWT grid</td>\n",
       "      <td>Settlement</td>\n",
       "      <td>Indigenous</td>\n",
       "      <td>First Nation</td>\n",
       "      <td>Yes</td>\n",
       "      <td>NaN</td>\n",
       "      <td>Prov./terr. grid</td>\n",
       "      <td>0.0</td>\n",
       "    </tr>\n",
       "    <tr>\n",
       "      <th>3</th>\n",
       "      <td>BC</td>\n",
       "      <td>Active &gt; Multi-community local microgrid</td>\n",
       "      <td>Settlement</td>\n",
       "      <td>Indigenous</td>\n",
       "      <td>First Nation</td>\n",
       "      <td>No</td>\n",
       "      <td>1019.0</td>\n",
       "      <td>Hydro</td>\n",
       "      <td>0.0</td>\n",
       "    </tr>\n",
       "    <tr>\n",
       "      <th>4</th>\n",
       "      <td>BC</td>\n",
       "      <td>Active &gt; Multi-community local microgrid</td>\n",
       "      <td>Settlement</td>\n",
       "      <td>Indigenous</td>\n",
       "      <td>First Nation</td>\n",
       "      <td>No</td>\n",
       "      <td>NaN</td>\n",
       "      <td>Hydro</td>\n",
       "      <td>0.0</td>\n",
       "    </tr>\n",
       "  </tbody>\n",
       "</table>\n",
       "</div>"
      ],
      "text/plain": [
       "  Province/Territory                     Community record status  \\\n",
       "0                 QC    Active > Multi-community local microgrid   \n",
       "1                 BC    Active > Multi-community local microgrid   \n",
       "2                 YT  Active > Grid connected: Yukon or NWT grid   \n",
       "3                 BC    Active > Multi-community local microgrid   \n",
       "4                 BC    Active > Multi-community local microgrid   \n",
       "\n",
       "  Community type Community classification Indigenous category  \\\n",
       "0     Settlement           Non-Indigenous                 NaN   \n",
       "1     Settlement           Non-Indigenous                 NaN   \n",
       "2     Settlement               Indigenous        First Nation   \n",
       "3     Settlement               Indigenous        First Nation   \n",
       "4     Settlement               Indigenous        First Nation   \n",
       "\n",
       "  Is there year-round road access to this community?  Population  \\\n",
       "0                                                 No     12475.0   \n",
       "1                                                 No       203.0   \n",
       "2                                                Yes         NaN   \n",
       "3                                                 No      1019.0   \n",
       "4                                                 No         NaN   \n",
       "\n",
       "  Main power source  Total renewable energy generation (kW)  \n",
       "0    Heavy fuel oil                                     0.0  \n",
       "1             Hydro                                 10000.0  \n",
       "2  Prov./terr. grid                                     0.0  \n",
       "3             Hydro                                     0.0  \n",
       "4             Hydro                                     0.0  "
      ]
     },
     "execution_count": 101,
     "metadata": {},
     "output_type": "execute_result"
    }
   ],
   "source": [
    "df = df[['Province/Territory','Community record status', 'Community type', 'Community classification', 'Indigenous category',\n",
    "        'Is there year-round road access to this community?', 'Population', 'Main power source', \n",
    "         'Total renewable energy generation (kW)']]\n",
    "df.head()"
   ]
  },
  {
   "cell_type": "code",
   "execution_count": 102,
   "id": "2d7e1b05",
   "metadata": {},
   "outputs": [],
   "source": [
    "def getUniqueValues(arr):\n",
    "    track = set()\n",
    "    for i in arr:\n",
    "        track.add(i)\n",
    "    return track"
   ]
  },
  {
   "cell_type": "code",
   "execution_count": 103,
   "id": "7788338b",
   "metadata": {},
   "outputs": [
    {
     "data": {
      "text/plain": [
       "['NT', 'BC', 'NL', 'YT', 'NU', 'SK', 'MB', 'AB', 'ON', 'QC']"
      ]
     },
     "execution_count": 103,
     "metadata": {},
     "output_type": "execute_result"
    }
   ],
   "source": [
    "provinces = list(getUniqueValues(df['Province/Territory']))\n",
    "province_map = createMap(provinces)\n",
    "provinces"
   ]
  },
  {
   "cell_type": "code",
   "execution_count": 104,
   "id": "c21f9342",
   "metadata": {},
   "outputs": [
    {
     "data": {
      "text/plain": [
       "{'Active > Grid connected: Yukon or NWT grid': 0,\n",
       " 'Active > Multi-community local microgrid': 1,\n",
       " 'Active > Single community off-grid': 2}"
      ]
     },
     "execution_count": 104,
     "metadata": {},
     "output_type": "execute_result"
    }
   ],
   "source": [
    "grids = list(getUniqueValues(df['Community record status']))\n",
    "grid_map = createMap(grids)\n",
    "grid_map"
   ]
  },
  {
   "cell_type": "code",
   "execution_count": 105,
   "id": "b97e498e",
   "metadata": {},
   "outputs": [],
   "source": [
    "comms = list(getUniqueValues(df['Community type']))\n",
    "comms_map = createMap(comms)"
   ]
  },
  {
   "cell_type": "code",
   "execution_count": 106,
   "id": "a429e040",
   "metadata": {},
   "outputs": [
    {
     "data": {
      "text/plain": [
       "['Indigenous', 'Non-Indigenous']"
      ]
     },
     "execution_count": 106,
     "metadata": {},
     "output_type": "execute_result"
    }
   ],
   "source": [
    "comm_class = list(getUniqueValues(df['Community classification']))\n",
    "comm_class_map = createMap(comm_class)\n",
    "comm_class"
   ]
  },
  {
   "cell_type": "code",
   "execution_count": 107,
   "id": "91eb74b0",
   "metadata": {},
   "outputs": [
    {
     "data": {
      "text/plain": [
       "[nan, 'Indigenous Collective', 'First Nation', 'Inuit']"
      ]
     },
     "execution_count": 107,
     "metadata": {},
     "output_type": "execute_result"
    }
   ],
   "source": [
    "indigenous = list(getUniqueValues(df['Indigenous category']))\n",
    "indigenous_map = createMap(indigenous)\n",
    "indigenous"
   ]
  },
  {
   "cell_type": "code",
   "execution_count": 108,
   "id": "6442f17a",
   "metadata": {},
   "outputs": [
    {
     "data": {
      "text/plain": [
       "{'No': 0, 'Yes': 1}"
      ]
     },
     "execution_count": 108,
     "metadata": {},
     "output_type": "execute_result"
    }
   ],
   "source": [
    "road_access = ['No', 'Yes']\n",
    "road_map = createMap(road_access[0:2])\n",
    "road_map"
   ]
  },
  {
   "cell_type": "code",
   "execution_count": 109,
   "id": "8c40b858",
   "metadata": {},
   "outputs": [
    {
     "data": {
      "text/plain": [
       "{'Hydro': 1,\n",
       " 'Other': 2,\n",
       " 'Diesel': 2,\n",
       " 'Natural Gas': 2,\n",
       " 'Prov./terr. grid': 2,\n",
       " 'Heavy fuel oil': 2,\n",
       " 'Unknown': 2}"
      ]
     },
     "execution_count": 109,
     "metadata": {},
     "output_type": "execute_result"
    }
   ],
   "source": [
    "power = list(getUniqueValues(df['Main power source']))\n",
    "power_map = {'Hydro':1, 'Other':2, 'Diesel':2, 'Natural Gas':2, 'Prov./terr. grid':2, 'Heavy fuel oil':2, 'Unknown':2}\n",
    "power_map"
   ]
  },
  {
   "cell_type": "code",
   "execution_count": 110,
   "id": "474cc7ae",
   "metadata": {},
   "outputs": [
    {
     "data": {
      "text/plain": [
       "[['NT', 'BC', 'NL', 'YT', 'NU', 'SK', 'MB', 'AB', 'ON', 'QC'],\n",
       " ['Active > Grid connected: Yukon or NWT grid',\n",
       "  'Active > Multi-community local microgrid',\n",
       "  'Active > Single community off-grid'],\n",
       " ['Settlement', 'Commercial'],\n",
       " ['Indigenous', 'Non-Indigenous'],\n",
       " [nan, 'Indigenous Collective', 'First Nation', 'Inuit'],\n",
       " ['No', 'Yes'],\n",
       " ['Unknown',\n",
       "  'Natural Gas',\n",
       "  'Heavy fuel oil',\n",
       "  'Diesel',\n",
       "  'Other',\n",
       "  'Prov./terr. grid',\n",
       "  'Hydro']]"
      ]
     },
     "execution_count": 110,
     "metadata": {},
     "output_type": "execute_result"
    }
   ],
   "source": [
    "col_list = [provinces, grids, comms, comm_class, indigenous, road_access, power]\n",
    "col_map = [province_map, grid_map, comms_map, comm_class_map, indigenous_map, road_map, power_map]\n",
    "col_list"
   ]
  },
  {
   "cell_type": "code",
   "execution_count": 111,
   "id": "e4704882",
   "metadata": {},
   "outputs": [
    {
     "name": "stdout",
     "output_type": "stream",
     "text": [
      "0\n",
      "['NT', 'BC', 'NL', 'YT', 'NU', 'SK', 'MB', 'AB', 'ON', 'QC']\n",
      "1\n",
      "['Active > Grid connected: Yukon or NWT grid', 'Active > Multi-community local microgrid', 'Active > Single community off-grid']\n",
      "2\n",
      "['Settlement', 'Commercial']\n",
      "3\n",
      "['Indigenous', 'Non-Indigenous']\n",
      "4\n",
      "[nan, 'Indigenous Collective', 'First Nation', 'Inuit']\n",
      "5\n",
      "['No', 'Yes']\n",
      "6\n",
      "['Unknown', 'Natural Gas', 'Heavy fuel oil', 'Diesel', 'Other', 'Prov./terr. grid', 'Hydro']\n"
     ]
    }
   ],
   "source": [
    "new_df = df.copy()\n",
    "for i in range(len(col_list)):\n",
    "    print(i)\n",
    "    print(col_list[i])\n",
    "    for el in col_list[i]:\n",
    "        new_df.replace(el, \n",
    "                       col_map[i][el], inplace=True)"
   ]
  },
  {
   "cell_type": "code",
   "execution_count": 112,
   "id": "98d8ae41",
   "metadata": {},
   "outputs": [
    {
     "data": {
      "text/html": [
       "<div>\n",
       "<style scoped>\n",
       "    .dataframe tbody tr th:only-of-type {\n",
       "        vertical-align: middle;\n",
       "    }\n",
       "\n",
       "    .dataframe tbody tr th {\n",
       "        vertical-align: top;\n",
       "    }\n",
       "\n",
       "    .dataframe thead th {\n",
       "        text-align: right;\n",
       "    }\n",
       "</style>\n",
       "<table border=\"1\" class=\"dataframe\">\n",
       "  <thead>\n",
       "    <tr style=\"text-align: right;\">\n",
       "      <th></th>\n",
       "      <th>Province/Territory</th>\n",
       "      <th>Community record status</th>\n",
       "      <th>Community type</th>\n",
       "      <th>Community classification</th>\n",
       "      <th>Indigenous category</th>\n",
       "      <th>Is there year-round road access to this community?</th>\n",
       "      <th>Population</th>\n",
       "      <th>Main power source</th>\n",
       "      <th>Total renewable energy generation (kW)</th>\n",
       "    </tr>\n",
       "  </thead>\n",
       "  <tbody>\n",
       "    <tr>\n",
       "      <th>0</th>\n",
       "      <td>9</td>\n",
       "      <td>1</td>\n",
       "      <td>0</td>\n",
       "      <td>1</td>\n",
       "      <td>0</td>\n",
       "      <td>0</td>\n",
       "      <td>12475.0</td>\n",
       "      <td>2</td>\n",
       "      <td>0.0</td>\n",
       "    </tr>\n",
       "    <tr>\n",
       "      <th>1</th>\n",
       "      <td>1</td>\n",
       "      <td>1</td>\n",
       "      <td>0</td>\n",
       "      <td>1</td>\n",
       "      <td>0</td>\n",
       "      <td>0</td>\n",
       "      <td>203.0</td>\n",
       "      <td>1</td>\n",
       "      <td>10000.0</td>\n",
       "    </tr>\n",
       "    <tr>\n",
       "      <th>2</th>\n",
       "      <td>3</td>\n",
       "      <td>0</td>\n",
       "      <td>0</td>\n",
       "      <td>0</td>\n",
       "      <td>2</td>\n",
       "      <td>1</td>\n",
       "      <td>0.0</td>\n",
       "      <td>2</td>\n",
       "      <td>0.0</td>\n",
       "    </tr>\n",
       "    <tr>\n",
       "      <th>3</th>\n",
       "      <td>1</td>\n",
       "      <td>1</td>\n",
       "      <td>0</td>\n",
       "      <td>0</td>\n",
       "      <td>2</td>\n",
       "      <td>0</td>\n",
       "      <td>1019.0</td>\n",
       "      <td>1</td>\n",
       "      <td>0.0</td>\n",
       "    </tr>\n",
       "    <tr>\n",
       "      <th>4</th>\n",
       "      <td>1</td>\n",
       "      <td>1</td>\n",
       "      <td>0</td>\n",
       "      <td>0</td>\n",
       "      <td>2</td>\n",
       "      <td>0</td>\n",
       "      <td>0.0</td>\n",
       "      <td>1</td>\n",
       "      <td>0.0</td>\n",
       "    </tr>\n",
       "  </tbody>\n",
       "</table>\n",
       "</div>"
      ],
      "text/plain": [
       "   Province/Territory  Community record status  Community type  \\\n",
       "0                   9                        1               0   \n",
       "1                   1                        1               0   \n",
       "2                   3                        0               0   \n",
       "3                   1                        1               0   \n",
       "4                   1                        1               0   \n",
       "\n",
       "   Community classification  Indigenous category  \\\n",
       "0                         1                    0   \n",
       "1                         1                    0   \n",
       "2                         0                    2   \n",
       "3                         0                    2   \n",
       "4                         0                    2   \n",
       "\n",
       "   Is there year-round road access to this community?  Population  \\\n",
       "0                                                  0      12475.0   \n",
       "1                                                  0        203.0   \n",
       "2                                                  1          0.0   \n",
       "3                                                  0       1019.0   \n",
       "4                                                  0          0.0   \n",
       "\n",
       "   Main power source  Total renewable energy generation (kW)  \n",
       "0                  2                                     0.0  \n",
       "1                  1                                 10000.0  \n",
       "2                  2                                     0.0  \n",
       "3                  1                                     0.0  \n",
       "4                  1                                     0.0  "
      ]
     },
     "execution_count": 112,
     "metadata": {},
     "output_type": "execute_result"
    }
   ],
   "source": [
    "new_df.dropna()\n",
    "new_df.head()\n",
    "comms = ['Grid', 'Single off grid',  'multi off grid']\n",
    "indigenous[0] = 'non-indgenous'\n",
    "indigenous[1] = 'collective'\n",
    "new_df.head()"
   ]
  },
  {
   "cell_type": "code",
   "execution_count": 113,
   "id": "f57bbc99",
   "metadata": {},
   "outputs": [
    {
     "name": "stdout",
     "output_type": "stream",
     "text": [
      "Province/Territory\n",
      "[128738.6, 35315.0, 0.0, 851355.0, 0.0, 25137.0, 0.0, 0.0, 194803.901, 1382.638]\n"
     ]
    },
    {
     "data": {
      "image/png": "[encoded data removed]",
      "text/plain": [
       "<Figure size 432x288 with 1 Axes>"
      ]
     },
     "metadata": {},
     "output_type": "display_data"
    },
    {
     "name": "stdout",
     "output_type": "stream",
     "text": [
      "Community record status\n",
      "[154853.0, 178286.0, 903593.139]\n"
     ]
    },
    {
     "data": {
      "image/png": "[encoded data removed]",
      "text/plain": [
       "<Figure size 432x288 with 1 Axes>"
      ]
     },
     "metadata": {},
     "output_type": "display_data"
    },
    {
     "name": "stdout",
     "output_type": "stream",
     "text": [
      "Community classification\n",
      "[1144865.501, 91866.638]\n"
     ]
    },
    {
     "data": {
      "image/png": "[encoded data removed]",
      "text/plain": [
       "<Figure size 432x288 with 1 Axes>"
      ]
     },
     "metadata": {},
     "output_type": "display_data"
    },
    {
     "name": "stdout",
     "output_type": "stream",
     "text": [
      "Is there year-round road access to this community?\n",
      "[182072.13900000002, 1054660.0]\n"
     ]
    },
    {
     "data": {
      "image/png": "[encoded data removed]",
      "text/plain": [
       "<Figure size 432x288 with 1 Axes>"
      ]
     },
     "metadata": {},
     "output_type": "display_data"
    }
   ],
   "source": [
    "graph_map = {'Province/Territory':provinces, 'Community record status':comms, 'Community classification':comm_class,\n",
    "             'Is there year-round road access to this community?':road_access}\n",
    "\n",
    "for key in graph_map:\n",
    "    print(key)\n",
    "    data = extract_values(get_renewable_energy(key))\n",
    "    print(data)\n",
    "   # print(type(graph_map[key]))\n",
    "    plt.bar(graph_map[key], data)\n",
    "    plt.title('Renewable energy data')\n",
    "    plt.xlabel(key)\n",
    "    plt.ylabel('total renewable energy generation (kW)')\n",
    "    plt.show()"
   ]
  },
  {
   "cell_type": "code",
   "execution_count": 114,
   "id": "4032075c",
   "metadata": {},
   "outputs": [
    {
     "name": "stdout",
     "output_type": "stream",
     "text": [
      "[1144865.501, 91811.638, 55.0, 0.0]\n"
     ]
    },
    {
     "data": {
      "image/png": "[encoded data removed]",
      "text/plain": [
       "<Figure size 432x288 with 1 Axes>"
      ]
     },
     "metadata": {},
     "output_type": "display_data"
    }
   ],
   "source": [
    "data = extract_values(get_renewable_energy('Indigenous category'))\n",
    "print(data)\n",
    "# print(type(graph_map[key]))\n",
    "plt.bar(indigenous, data)\n",
    "plt.title('Renewable energy data')\n",
    "plt.xlabel('Indigenous Category')\n",
    "plt.ylabel('total renewable energy generation (kW)')\n",
    "plt.show()"
   ]
  },
  {
   "cell_type": "code",
   "execution_count": 115,
   "id": "cf64677e",
   "metadata": {},
   "outputs": [],
   "source": [
    "def createMap(arr):\n",
    "    mpa = {}\n",
    "    for i in range(len(arr)):\n",
    "        mpa[arr[i]] = i\n",
    "    return mpa"
   ]
  },
  {
   "cell_type": "code",
   "execution_count": 116,
   "id": "517b877b",
   "metadata": {},
   "outputs": [],
   "source": [
    "def get_renewable_energy(col):\n",
    "    \n",
    "    values = {}\n",
    "    \n",
    "    for i in range(len(new_df)):\n",
    "        key = new_df.loc[i, col]\n",
    "        val = new_df.loc[i, 'Total renewable energy generation (kW)']\n",
    "        \n",
    "        if key in values:\n",
    "            values[key] += val\n",
    "        else:\n",
    "            values[key] = val\n",
    "    return values"
   ]
  },
  {
   "cell_type": "code",
   "execution_count": 117,
   "id": "c18f6733",
   "metadata": {},
   "outputs": [],
   "source": [
    "def extract_values(dct):\n",
    "    data = []\n",
    "    for key in dct:\n",
    "        data.append(dct[key])\n",
    "    return data"
   ]
  },
  {
   "cell_type": "code",
   "execution_count": 118,
   "id": "347a8d4c",
   "metadata": {},
   "outputs": [
    {
     "name": "stdout",
     "output_type": "stream",
     "text": [
      "276\n",
      "276\n"
     ]
    }
   ],
   "source": [
    "population = np.array(new_df['Population'])\n",
    "renewable = np.array(new_df['Total renewable energy generation (kW)'])\n",
    "print(len(population))\n",
    "print(len(renewable))"
   ]
  },
  {
   "cell_type": "code",
   "execution_count": 153,
   "id": "dc010355",
   "metadata": {},
   "outputs": [],
   "source": [
    "clf = LinearRegression()\n",
    "x = np.array(new_df.drop(['Total renewable energy generation (kW)'], 1))\n",
    "y = np.array(new_df['Total renewable energy generation (kW)'])"
   ]
  },
  {
   "cell_type": "code",
   "execution_count": 154,
   "id": "8fe6485f",
   "metadata": {},
   "outputs": [
    {
     "name": "stdout",
     "output_type": "stream",
     "text": [
      "-3.8618102713519047\n",
      "[ 1.81527638e+03  1.03866460e+04 -1.73667067e+04  1.41615429e+04\n",
      " -1.09035826e+03  1.78321325e+04  4.42571408e+00  2.36343508e+03]\n",
      "-35319.77034727977\n"
     ]
    }
   ],
   "source": [
    "x_train, x_test, y_train, y_test = model_selection.train_test_split(x,y, test_size=0.20)\n",
    "clf.fit(x_train, y_train)\n",
    "accuracy = clf.score(x_test, y_test)\n",
    "print(accuracy)\n",
    "print(clf.coef_)\n",
    "print(clf.intercept_)"
   ]
  },
  {
   "cell_type": "code",
   "execution_count": 155,
   "id": "d4ea4994",
   "metadata": {},
   "outputs": [
    {
     "data": {
      "image/png": "[encoded data removed]",
      "text/plain": [
       "<Figure size 432x288 with 1 Axes>"
      ]
     },
     "metadata": {},
     "output_type": "display_data"
    }
   ],
   "source": [
    "plt.plot(range(0,276), renewable)\n",
    "#y = clf.coef_ * x + clf.intercept_\n",
    "x = range(0,276)\n",
    "plt.plot(x,\n",
    "         clf.predict(new_df.drop(['Total renewable energy generation (kW)'], 1).loc[x]))\n",
    "plt.xlabel('index')\n",
    "plt.ylabel('Total renewable energy generation (kW)')\n",
    "plt.show()"
   ]
  },
  {
   "cell_type": "code",
   "execution_count": 156,
   "id": "825bf93c",
   "metadata": {},
   "outputs": [
    {
     "ename": "ValueError",
     "evalue": "matmul: Input operand 1 has a mismatch in its core dimension 0, with gufunc signature (n?,k),(k,m?)->(n?,m?) (size 8 is different from 6)",
     "output_type": "error",
     "traceback": [
      "\u001b[1;31m---------------------------------------------------------------------------\u001b[0m",
      "\u001b[1;31mValueError\u001b[0m                                Traceback (most recent call last)",
      "\u001b[1;32m<ipython-input-156-4b5e9e29f17f>\u001b[0m in \u001b[0;36m<module>\u001b[1;34m\u001b[0m\n\u001b[0;32m      5\u001b[0m \u001b[0mx_train\u001b[0m\u001b[1;33m,\u001b[0m \u001b[0mx_test\u001b[0m\u001b[1;33m,\u001b[0m \u001b[0my_train\u001b[0m\u001b[1;33m,\u001b[0m \u001b[0my_test\u001b[0m \u001b[1;33m=\u001b[0m \u001b[0mmodel_selection\u001b[0m\u001b[1;33m.\u001b[0m\u001b[0mtrain_test_split\u001b[0m\u001b[1;33m(\u001b[0m\u001b[0mx\u001b[0m\u001b[1;33m,\u001b[0m\u001b[0my\u001b[0m\u001b[1;33m,\u001b[0m \u001b[0mtest_size\u001b[0m\u001b[1;33m=\u001b[0m\u001b[1;36m0.20\u001b[0m\u001b[1;33m)\u001b[0m\u001b[1;33m\u001b[0m\u001b[1;33m\u001b[0m\u001b[0m\n\u001b[0;32m      6\u001b[0m \u001b[0mclf2\u001b[0m\u001b[1;33m.\u001b[0m\u001b[0mfit\u001b[0m\u001b[1;33m(\u001b[0m\u001b[0mx_train\u001b[0m\u001b[1;33m,\u001b[0m \u001b[0my_train\u001b[0m\u001b[1;33m)\u001b[0m\u001b[1;33m\u001b[0m\u001b[1;33m\u001b[0m\u001b[0m\n\u001b[1;32m----> 7\u001b[1;33m \u001b[0maccuracy\u001b[0m \u001b[1;33m=\u001b[0m \u001b[0mclf\u001b[0m\u001b[1;33m.\u001b[0m\u001b[0mscore\u001b[0m\u001b[1;33m(\u001b[0m\u001b[0mx_test\u001b[0m\u001b[1;33m,\u001b[0m \u001b[0my_test\u001b[0m\u001b[1;33m)\u001b[0m\u001b[1;33m\u001b[0m\u001b[1;33m\u001b[0m\u001b[0m\n\u001b[0m",
      "\u001b[1;32mE:\\Python-Notebooks\\Anaconda3\\lib\\site-packages\\sklearn\\base.py\u001b[0m in \u001b[0;36mscore\u001b[1;34m(self, X, y, sample_weight)\u001b[0m\n\u001b[0;32m    551\u001b[0m \u001b[1;33m\u001b[0m\u001b[0m\n\u001b[0;32m    552\u001b[0m         \u001b[1;32mfrom\u001b[0m \u001b[1;33m.\u001b[0m\u001b[0mmetrics\u001b[0m \u001b[1;32mimport\u001b[0m \u001b[0mr2_score\u001b[0m\u001b[1;33m\u001b[0m\u001b[1;33m\u001b[0m\u001b[0m\n\u001b[1;32m--> 553\u001b[1;33m         \u001b[0my_pred\u001b[0m \u001b[1;33m=\u001b[0m \u001b[0mself\u001b[0m\u001b[1;33m.\u001b[0m\u001b[0mpredict\u001b[0m\u001b[1;33m(\u001b[0m\u001b[0mX\u001b[0m\u001b[1;33m)\u001b[0m\u001b[1;33m\u001b[0m\u001b[1;33m\u001b[0m\u001b[0m\n\u001b[0m\u001b[0;32m    554\u001b[0m         \u001b[1;32mreturn\u001b[0m \u001b[0mr2_score\u001b[0m\u001b[1;33m(\u001b[0m\u001b[0my\u001b[0m\u001b[1;33m,\u001b[0m \u001b[0my_pred\u001b[0m\u001b[1;33m,\u001b[0m \u001b[0msample_weight\u001b[0m\u001b[1;33m=\u001b[0m\u001b[0msample_weight\u001b[0m\u001b[1;33m)\u001b[0m\u001b[1;33m\u001b[0m\u001b[1;33m\u001b[0m\u001b[0m\n\u001b[0;32m    555\u001b[0m \u001b[1;33m\u001b[0m\u001b[0m\n",
      "\u001b[1;32mE:\\Python-Notebooks\\Anaconda3\\lib\\site-packages\\sklearn\\linear_model\\_base.py\u001b[0m in \u001b[0;36mpredict\u001b[1;34m(self, X)\u001b[0m\n\u001b[0;32m    236\u001b[0m             \u001b[0mReturns\u001b[0m \u001b[0mpredicted\u001b[0m \u001b[0mvalues\u001b[0m\u001b[1;33m.\u001b[0m\u001b[1;33m\u001b[0m\u001b[1;33m\u001b[0m\u001b[0m\n\u001b[0;32m    237\u001b[0m         \"\"\"\n\u001b[1;32m--> 238\u001b[1;33m         \u001b[1;32mreturn\u001b[0m \u001b[0mself\u001b[0m\u001b[1;33m.\u001b[0m\u001b[0m_decision_function\u001b[0m\u001b[1;33m(\u001b[0m\u001b[0mX\u001b[0m\u001b[1;33m)\u001b[0m\u001b[1;33m\u001b[0m\u001b[1;33m\u001b[0m\u001b[0m\n\u001b[0m\u001b[0;32m    239\u001b[0m \u001b[1;33m\u001b[0m\u001b[0m\n\u001b[0;32m    240\u001b[0m     \u001b[0m_preprocess_data\u001b[0m \u001b[1;33m=\u001b[0m \u001b[0mstaticmethod\u001b[0m\u001b[1;33m(\u001b[0m\u001b[0m_preprocess_data\u001b[0m\u001b[1;33m)\u001b[0m\u001b[1;33m\u001b[0m\u001b[1;33m\u001b[0m\u001b[0m\n",
      "\u001b[1;32mE:\\Python-Notebooks\\Anaconda3\\lib\\site-packages\\sklearn\\linear_model\\_base.py\u001b[0m in \u001b[0;36m_decision_function\u001b[1;34m(self, X)\u001b[0m\n\u001b[0;32m    219\u001b[0m \u001b[1;33m\u001b[0m\u001b[0m\n\u001b[0;32m    220\u001b[0m         \u001b[0mX\u001b[0m \u001b[1;33m=\u001b[0m \u001b[0mcheck_array\u001b[0m\u001b[1;33m(\u001b[0m\u001b[0mX\u001b[0m\u001b[1;33m,\u001b[0m \u001b[0maccept_sparse\u001b[0m\u001b[1;33m=\u001b[0m\u001b[1;33m[\u001b[0m\u001b[1;34m'csr'\u001b[0m\u001b[1;33m,\u001b[0m \u001b[1;34m'csc'\u001b[0m\u001b[1;33m,\u001b[0m \u001b[1;34m'coo'\u001b[0m\u001b[1;33m]\u001b[0m\u001b[1;33m)\u001b[0m\u001b[1;33m\u001b[0m\u001b[1;33m\u001b[0m\u001b[0m\n\u001b[1;32m--> 221\u001b[1;33m         return safe_sparse_dot(X, self.coef_.T,\n\u001b[0m\u001b[0;32m    222\u001b[0m                                dense_output=True) + self.intercept_\n\u001b[0;32m    223\u001b[0m \u001b[1;33m\u001b[0m\u001b[0m\n",
      "\u001b[1;32mE:\\Python-Notebooks\\Anaconda3\\lib\\site-packages\\sklearn\\utils\\validation.py\u001b[0m in \u001b[0;36minner_f\u001b[1;34m(*args, **kwargs)\u001b[0m\n\u001b[0;32m     61\u001b[0m             \u001b[0mextra_args\u001b[0m \u001b[1;33m=\u001b[0m \u001b[0mlen\u001b[0m\u001b[1;33m(\u001b[0m\u001b[0margs\u001b[0m\u001b[1;33m)\u001b[0m \u001b[1;33m-\u001b[0m \u001b[0mlen\u001b[0m\u001b[1;33m(\u001b[0m\u001b[0mall_args\u001b[0m\u001b[1;33m)\u001b[0m\u001b[1;33m\u001b[0m\u001b[1;33m\u001b[0m\u001b[0m\n\u001b[0;32m     62\u001b[0m             \u001b[1;32mif\u001b[0m \u001b[0mextra_args\u001b[0m \u001b[1;33m<=\u001b[0m \u001b[1;36m0\u001b[0m\u001b[1;33m:\u001b[0m\u001b[1;33m\u001b[0m\u001b[1;33m\u001b[0m\u001b[0m\n\u001b[1;32m---> 63\u001b[1;33m                 \u001b[1;32mreturn\u001b[0m \u001b[0mf\u001b[0m\u001b[1;33m(\u001b[0m\u001b[1;33m*\u001b[0m\u001b[0margs\u001b[0m\u001b[1;33m,\u001b[0m \u001b[1;33m**\u001b[0m\u001b[0mkwargs\u001b[0m\u001b[1;33m)\u001b[0m\u001b[1;33m\u001b[0m\u001b[1;33m\u001b[0m\u001b[0m\n\u001b[0m\u001b[0;32m     64\u001b[0m \u001b[1;33m\u001b[0m\u001b[0m\n\u001b[0;32m     65\u001b[0m             \u001b[1;31m# extra_args > 0\u001b[0m\u001b[1;33m\u001b[0m\u001b[1;33m\u001b[0m\u001b[1;33m\u001b[0m\u001b[0m\n",
      "\u001b[1;32mE:\\Python-Notebooks\\Anaconda3\\lib\\site-packages\\sklearn\\utils\\extmath.py\u001b[0m in \u001b[0;36msafe_sparse_dot\u001b[1;34m(a, b, dense_output)\u001b[0m\n\u001b[0;32m    150\u001b[0m             \u001b[0mret\u001b[0m \u001b[1;33m=\u001b[0m \u001b[0mnp\u001b[0m\u001b[1;33m.\u001b[0m\u001b[0mdot\u001b[0m\u001b[1;33m(\u001b[0m\u001b[0ma\u001b[0m\u001b[1;33m,\u001b[0m \u001b[0mb\u001b[0m\u001b[1;33m)\u001b[0m\u001b[1;33m\u001b[0m\u001b[1;33m\u001b[0m\u001b[0m\n\u001b[0;32m    151\u001b[0m     \u001b[1;32melse\u001b[0m\u001b[1;33m:\u001b[0m\u001b[1;33m\u001b[0m\u001b[1;33m\u001b[0m\u001b[0m\n\u001b[1;32m--> 152\u001b[1;33m         \u001b[0mret\u001b[0m \u001b[1;33m=\u001b[0m \u001b[0ma\u001b[0m \u001b[1;33m@\u001b[0m \u001b[0mb\u001b[0m\u001b[1;33m\u001b[0m\u001b[1;33m\u001b[0m\u001b[0m\n\u001b[0m\u001b[0;32m    153\u001b[0m \u001b[1;33m\u001b[0m\u001b[0m\n\u001b[0;32m    154\u001b[0m     if (sparse.issparse(a) and sparse.issparse(b)\n",
      "\u001b[1;31mValueError\u001b[0m: matmul: Input operand 1 has a mismatch in its core dimension 0, with gufunc signature (n?,k),(k,m?)->(n?,m?) (size 8 is different from 6)"
     ]
    }
   ],
   "source": [
    "clf2 = LinearRegression()\n",
    "x = np.array(new_df.drop(['Total renewable energy generation (kW)', 'Community record status', \n",
    "                             'Indigenous category'], 1))\n",
    "y = np.array(new_df['Total renewable energy generation (kW)'])\n",
    "x_train, x_test, y_train, y_test = model_selection.train_test_split(x,y, test_size=0.20)\n",
    "clf2.fit(x_train, y_train)\n",
    "accuracy = clf.score(x_test, y_test)"
   ]
  },
  {
   "cell_type": "code",
   "execution_count": 157,
   "id": "7c38331d",
   "metadata": {},
   "outputs": [
    {
     "data": {
      "image/png": "[encoded data removed]",
      "text/plain": [
       "<Figure size 432x288 with 1 Axes>"
      ]
     },
     "metadata": {},
     "output_type": "display_data"
    }
   ],
   "source": [
    "x = range(0,276)\n",
    "plt.plot(x,\n",
    "         clf.predict(new_df.drop(['Total renewable energy generation (kW)'], 1).loc[x]))\n",
    "\n",
    "plt.plot(x, clf2.predict(new_df.drop(['Total renewable energy generation (kW)', 'Community record status', \n",
    "                             'Indigenous category'], 1).loc[x]), 'b')\n",
    "plt.xlabel('index')\n",
    "plt.ylabel('Total renewable energy generation (kW)')\n",
    "plt.show()"
   ]
  },
  {
   "cell_type": "code",
   "execution_count": 126,
   "id": "f826fb3e",
   "metadata": {},
   "outputs": [
    {
     "data": {
      "text/html": [
       "<div>\n",
       "<style scoped>\n",
       "    .dataframe tbody tr th:only-of-type {\n",
       "        vertical-align: middle;\n",
       "    }\n",
       "\n",
       "    .dataframe tbody tr th {\n",
       "        vertical-align: top;\n",
       "    }\n",
       "\n",
       "    .dataframe thead th {\n",
       "        text-align: right;\n",
       "    }\n",
       "</style>\n",
       "<table border=\"1\" class=\"dataframe\">\n",
       "  <thead>\n",
       "    <tr style=\"text-align: right;\">\n",
       "      <th></th>\n",
       "      <th>Province/Territory</th>\n",
       "      <th>Community record status</th>\n",
       "      <th>Community type</th>\n",
       "      <th>Community classification</th>\n",
       "      <th>Indigenous category</th>\n",
       "      <th>Is there year-round road access to this community?</th>\n",
       "      <th>Population</th>\n",
       "      <th>Main power source</th>\n",
       "      <th>Total renewable energy generation (kW)</th>\n",
       "    </tr>\n",
       "  </thead>\n",
       "  <tbody>\n",
       "    <tr>\n",
       "      <th>0</th>\n",
       "      <td>9</td>\n",
       "      <td>1</td>\n",
       "      <td>0</td>\n",
       "      <td>1</td>\n",
       "      <td>0</td>\n",
       "      <td>0</td>\n",
       "      <td>12475.0</td>\n",
       "      <td>2</td>\n",
       "      <td>0.0</td>\n",
       "    </tr>\n",
       "    <tr>\n",
       "      <th>1</th>\n",
       "      <td>1</td>\n",
       "      <td>1</td>\n",
       "      <td>0</td>\n",
       "      <td>1</td>\n",
       "      <td>0</td>\n",
       "      <td>0</td>\n",
       "      <td>203.0</td>\n",
       "      <td>1</td>\n",
       "      <td>10000.0</td>\n",
       "    </tr>\n",
       "    <tr>\n",
       "      <th>2</th>\n",
       "      <td>3</td>\n",
       "      <td>0</td>\n",
       "      <td>0</td>\n",
       "      <td>0</td>\n",
       "      <td>2</td>\n",
       "      <td>1</td>\n",
       "      <td>0.0</td>\n",
       "      <td>2</td>\n",
       "      <td>0.0</td>\n",
       "    </tr>\n",
       "    <tr>\n",
       "      <th>3</th>\n",
       "      <td>1</td>\n",
       "      <td>1</td>\n",
       "      <td>0</td>\n",
       "      <td>0</td>\n",
       "      <td>2</td>\n",
       "      <td>0</td>\n",
       "      <td>1019.0</td>\n",
       "      <td>1</td>\n",
       "      <td>0.0</td>\n",
       "    </tr>\n",
       "    <tr>\n",
       "      <th>4</th>\n",
       "      <td>1</td>\n",
       "      <td>1</td>\n",
       "      <td>0</td>\n",
       "      <td>0</td>\n",
       "      <td>2</td>\n",
       "      <td>0</td>\n",
       "      <td>0.0</td>\n",
       "      <td>1</td>\n",
       "      <td>0.0</td>\n",
       "    </tr>\n",
       "    <tr>\n",
       "      <th>...</th>\n",
       "      <td>...</td>\n",
       "      <td>...</td>\n",
       "      <td>...</td>\n",
       "      <td>...</td>\n",
       "      <td>...</td>\n",
       "      <td>...</td>\n",
       "      <td>...</td>\n",
       "      <td>...</td>\n",
       "      <td>...</td>\n",
       "    </tr>\n",
       "    <tr>\n",
       "      <th>96</th>\n",
       "      <td>3</td>\n",
       "      <td>0</td>\n",
       "      <td>0</td>\n",
       "      <td>0</td>\n",
       "      <td>2</td>\n",
       "      <td>1</td>\n",
       "      <td>124.0</td>\n",
       "      <td>2</td>\n",
       "      <td>0.0</td>\n",
       "    </tr>\n",
       "    <tr>\n",
       "      <th>97</th>\n",
       "      <td>3</td>\n",
       "      <td>0</td>\n",
       "      <td>0</td>\n",
       "      <td>1</td>\n",
       "      <td>0</td>\n",
       "      <td>1</td>\n",
       "      <td>25085.0</td>\n",
       "      <td>2</td>\n",
       "      <td>0.0</td>\n",
       "    </tr>\n",
       "    <tr>\n",
       "      <th>98</th>\n",
       "      <td>7</td>\n",
       "      <td>2</td>\n",
       "      <td>0</td>\n",
       "      <td>0</td>\n",
       "      <td>2</td>\n",
       "      <td>1</td>\n",
       "      <td>38.0</td>\n",
       "      <td>2</td>\n",
       "      <td>0.0</td>\n",
       "    </tr>\n",
       "    <tr>\n",
       "      <th>99</th>\n",
       "      <td>7</td>\n",
       "      <td>2</td>\n",
       "      <td>0</td>\n",
       "      <td>1</td>\n",
       "      <td>0</td>\n",
       "      <td>0</td>\n",
       "      <td>853.0</td>\n",
       "      <td>2</td>\n",
       "      <td>0.0</td>\n",
       "    </tr>\n",
       "    <tr>\n",
       "      <th>100</th>\n",
       "      <td>7</td>\n",
       "      <td>2</td>\n",
       "      <td>1</td>\n",
       "      <td>1</td>\n",
       "      <td>0</td>\n",
       "      <td>1</td>\n",
       "      <td>1.0</td>\n",
       "      <td>2</td>\n",
       "      <td>0.0</td>\n",
       "    </tr>\n",
       "  </tbody>\n",
       "</table>\n",
       "<p>101 rows × 9 columns</p>\n",
       "</div>"
      ],
      "text/plain": [
       "     Province/Territory  Community record status  Community type  \\\n",
       "0                     9                        1               0   \n",
       "1                     1                        1               0   \n",
       "2                     3                        0               0   \n",
       "3                     1                        1               0   \n",
       "4                     1                        1               0   \n",
       "..                  ...                      ...             ...   \n",
       "96                    3                        0               0   \n",
       "97                    3                        0               0   \n",
       "98                    7                        2               0   \n",
       "99                    7                        2               0   \n",
       "100                   7                        2               1   \n",
       "\n",
       "     Community classification  Indigenous category  \\\n",
       "0                           1                    0   \n",
       "1                           1                    0   \n",
       "2                           0                    2   \n",
       "3                           0                    2   \n",
       "4                           0                    2   \n",
       "..                        ...                  ...   \n",
       "96                          0                    2   \n",
       "97                          1                    0   \n",
       "98                          0                    2   \n",
       "99                          1                    0   \n",
       "100                         1                    0   \n",
       "\n",
       "     Is there year-round road access to this community?  Population  \\\n",
       "0                                                    0      12475.0   \n",
       "1                                                    0        203.0   \n",
       "2                                                    1          0.0   \n",
       "3                                                    0       1019.0   \n",
       "4                                                    0          0.0   \n",
       "..                                                 ...          ...   \n",
       "96                                                   1        124.0   \n",
       "97                                                   1      25085.0   \n",
       "98                                                   1         38.0   \n",
       "99                                                   0        853.0   \n",
       "100                                                  1          1.0   \n",
       "\n",
       "     Main power source  Total renewable energy generation (kW)  \n",
       "0                    2                                     0.0  \n",
       "1                    1                                 10000.0  \n",
       "2                    2                                     0.0  \n",
       "3                    1                                     0.0  \n",
       "4                    1                                     0.0  \n",
       "..                 ...                                     ...  \n",
       "96                   2                                     0.0  \n",
       "97                   2                                     0.0  \n",
       "98                   2                                     0.0  \n",
       "99                   2                                     0.0  \n",
       "100                  2                                     0.0  \n",
       "\n",
       "[101 rows x 9 columns]"
      ]
     },
     "execution_count": 126,
     "metadata": {},
     "output_type": "execute_result"
    }
   ],
   "source": [
    "new_df.head(101)"
   ]
  },
  {
   "cell_type": "code",
   "execution_count": 158,
   "id": "85838dad",
   "metadata": {},
   "outputs": [],
   "source": [
    "################################ mean shift"
   ]
  },
  {
   "cell_type": "code",
   "execution_count": 159,
   "id": "891011c6",
   "metadata": {},
   "outputs": [],
   "source": [
    "from sklearn.cluster import MeanShift"
   ]
  },
  {
   "cell_type": "code",
   "execution_count": 160,
   "id": "d674161e",
   "metadata": {},
   "outputs": [
    {
     "data": {
      "text/plain": [
       "MeanShift()"
      ]
     },
     "execution_count": 160,
     "metadata": {},
     "output_type": "execute_result"
    }
   ],
   "source": [
    "X = np.array(new_df.drop(['Total renewable energy generation (kW)'], 1))\n",
    "ms = MeanShift()\n",
    "ms.fit(X)"
   ]
  },
  {
   "cell_type": "code",
   "execution_count": 161,
   "id": "41d51053",
   "metadata": {},
   "outputs": [
    {
     "name": "stdout",
     "output_type": "stream",
     "text": [
      "[[3.34418605e+00 1.62325581e+00 7.90697674e-02 4.51162791e-01\n",
      "  1.16279070e+00 4.18604651e-01 2.20841860e+02 1.86511628e+00]\n",
      " [5.75000000e+00 1.75000000e+00 0.00000000e+00 1.25000000e-01\n",
      "  2.25000000e+00 2.50000000e-01 2.53050000e+03 2.00000000e+00]\n",
      " [9.00000000e+00 1.00000000e+00 0.00000000e+00 1.00000000e+00\n",
      "  0.00000000e+00 0.00000000e+00 1.24750000e+04 2.00000000e+00]\n",
      " [7.00000000e+00 2.00000000e+00 0.00000000e+00 1.00000000e+00\n",
      "  0.00000000e+00 1.00000000e+00 4.59000000e+03 2.00000000e+00]\n",
      " [4.00000000e+00 2.00000000e+00 0.00000000e+00 0.00000000e+00\n",
      "  3.00000000e+00 0.00000000e+00 7.74000000e+03 2.00000000e+00]\n",
      " [3.00000000e+00 0.00000000e+00 0.00000000e+00 1.00000000e+00\n",
      "  0.00000000e+00 1.00000000e+00 2.50850000e+04 2.00000000e+00]\n",
      " [0.00000000e+00 0.00000000e+00 0.00000000e+00 1.00000000e+00\n",
      "  0.00000000e+00 1.00000000e+00 1.95690000e+04 2.00000000e+00]]\n"
     ]
    }
   ],
   "source": [
    "print(ms.cluster_centers_)"
   ]
  },
  {
   "cell_type": "code",
   "execution_count": null,
   "id": "4af54199",
   "metadata": {},
   "outputs": [],
   "source": []
  }
 ],
 "metadata": {
  "kernelspec": {
   "display_name": "Python 3",
   "language": "python",
   "name": "python3"
  },
  "language_info": {
   "codemirror_mode": {
    "name": "ipython",
    "version": 3
   },
   "file_extension": ".py",
   "mimetype": "text/x-python",
   "name": "python",
   "nbconvert_exporter": "python",
   "pygments_lexer": "ipython3",
   "version": "3.8.8"
  }
 },
 "nbformat": 4,
 "nbformat_minor": 5
}
